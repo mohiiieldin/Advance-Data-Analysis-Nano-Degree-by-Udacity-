{
  "nbformat": 4,
  "nbformat_minor": 0,
  "metadata": {
    "colab": {
      "name": "Investigate a Data set.ipynb",
      "provenance": [],
      "collapsed_sections": [],
      "toc_visible": true
    },
    "kernelspec": {
      "display_name": "Python [default]",
      "language": "python",
      "name": "python3"
    },
    "language_info": {
      "codemirror_mode": {
        "name": "ipython",
        "version": 3
      },
      "file_extension": ".py",
      "mimetype": "text/x-python",
      "name": "python",
      "nbconvert_exporter": "python",
      "pygments_lexer": "ipython3",
      "version": "3.5.3"
    }
  },
  "cells": [
    {
      "cell_type": "markdown",
      "metadata": {
        "id": "ezNxmf8nZmKj"
      },
      "source": [
        "# Project: Investigate (TMDb) Data set for Movies\n",
        "\n",
        "## Table of Contents\n",
        "<ul>\n",
        "<li><a href=\"#Lib\">Libraries</a></li>\n",
        "<li><a href=\"#intro\">Introduction</a></li>\n",
        "<li><a href=\"#wrangling\">Data Wrangling</a></li>\n",
        "<li><a href=\"#eda\">Exploratory Data Analysis</a></li>\n",
        "<li><a href=\"#conclusions\">Conclusions</a></li>\n",
        "</ul>"
      ]
    },
    {
      "cell_type": "markdown",
      "metadata": {
        "id": "xaoJ389-en7g"
      },
      "source": [
        "<a id=\"Lib\"></a>\n",
        "## Libraries"
      ]
    },
    {
      "cell_type": "code",
      "metadata": {
        "id": "xvipOrNIfESQ"
      },
      "source": [
        "import pandas as pd\n",
        "import matplotlib.pyplot as plt\n",
        "%matplotlib inline\n",
        "plt.style.use(\"ggplot\")\n",
        "import numpy as np\n",
        "import seaborn as sns\n"
      ],
      "execution_count": 2,
      "outputs": []
    },
    {
      "cell_type": "code",
      "metadata": {
        "id": "DN3LSVGdkxMu"
      },
      "source": [
        "# a function for plots title\n",
        "def addTitleLabels(xlabel, ylabel,title):\n",
        "\tplt.title(title.title() , fontsize = 14 , weight = 'bold')\n",
        "\tplt.ylabel(ylabel.title(),fontsize=12)\n",
        "\tplt.xlabel(xlabel.title(),fontsize=12)"
      ],
      "execution_count": 9,
      "outputs": []
    },
    {
      "cell_type": "markdown",
      "metadata": {
        "id": "SRsqJrfAZmKo"
      },
      "source": [
        "<a id='intro'></a>\n",
        "## Introduction\n",
        "\n"
      ]
    },
    {
      "cell_type": "markdown",
      "metadata": {
        "id": "1DcTuNJXfwpR"
      },
      "source": [
        "#### tmdb-movies : \n",
        "This data set contains information about 10,000 movies collected from The Movie Database (TMDb), including user ratings, revenue and other columns that give more details about the movie\n",
        "\n",
        "Our dependant variables will be revenue and vote_average\n",
        "Our independent variables will be 1) release_date 2) director 3) geners\n",
        "\n",
        "Some of the interesting questions about this data set :\n",
        "#### Dose movie revenue is affected by the month of the rlease then wo focus on specific monthes ? \n",
        "#### Is there a relationship between the movie rate and the director of the movie so when i as a producer choose X director i can expect an average rate for the movie ?\n",
        "#### Does gener of the movie gurantee a specific profit ? \n",
        "\n"
      ]
    },
    {
      "cell_type": "code",
      "metadata": {
        "colab": {
          "base_uri": "https://localhost:8080/"
        },
        "id": "gn5g4sk_d7bU",
        "outputId": "95d9b044-7ad7-4040-fb5f-d243041cf568"
      },
      "source": [
        "from google.colab import drive\n",
        "drive.mount('/content/drive')"
      ],
      "execution_count": 3,
      "outputs": [
        {
          "output_type": "stream",
          "text": [
            "Mounted at /content/drive\n"
          ],
          "name": "stdout"
        }
      ]
    },
    {
      "cell_type": "markdown",
      "metadata": {
        "id": "F7M7MWDcZmKq"
      },
      "source": [
        "<a id='wrangling'></a>\n",
        "## Data Wrangling\n",
        "\n",
        "### General Properties"
      ]
    },
    {
      "cell_type": "code",
      "metadata": {
        "colab": {
          "base_uri": "https://localhost:8080/",
          "height": 357
        },
        "id": "uYjkh9TUeEvP",
        "outputId": "020da73d-af7d-4567-e0a7-a2898a90b93f"
      },
      "source": [
        "movies = pd.read_csv(\"/content/drive/MyDrive/Advanced Data Analysis Nano Degree/tmdb-movies.csv\")\n",
        "movies.head(3)"
      ],
      "execution_count": 4,
      "outputs": [
        {
          "output_type": "execute_result",
          "data": {
            "text/html": [
              "<div>\n",
              "<style scoped>\n",
              "    .dataframe tbody tr th:only-of-type {\n",
              "        vertical-align: middle;\n",
              "    }\n",
              "\n",
              "    .dataframe tbody tr th {\n",
              "        vertical-align: top;\n",
              "    }\n",
              "\n",
              "    .dataframe thead th {\n",
              "        text-align: right;\n",
              "    }\n",
              "</style>\n",
              "<table border=\"1\" class=\"dataframe\">\n",
              "  <thead>\n",
              "    <tr style=\"text-align: right;\">\n",
              "      <th></th>\n",
              "      <th>id</th>\n",
              "      <th>imdb_id</th>\n",
              "      <th>popularity</th>\n",
              "      <th>budget</th>\n",
              "      <th>revenue</th>\n",
              "      <th>original_title</th>\n",
              "      <th>cast</th>\n",
              "      <th>homepage</th>\n",
              "      <th>director</th>\n",
              "      <th>tagline</th>\n",
              "      <th>keywords</th>\n",
              "      <th>overview</th>\n",
              "      <th>runtime</th>\n",
              "      <th>genres</th>\n",
              "      <th>production_companies</th>\n",
              "      <th>release_date</th>\n",
              "      <th>vote_count</th>\n",
              "      <th>vote_average</th>\n",
              "      <th>release_year</th>\n",
              "      <th>budget_adj</th>\n",
              "      <th>revenue_adj</th>\n",
              "    </tr>\n",
              "  </thead>\n",
              "  <tbody>\n",
              "    <tr>\n",
              "      <th>0</th>\n",
              "      <td>135397</td>\n",
              "      <td>tt0369610</td>\n",
              "      <td>32.985763</td>\n",
              "      <td>150000000</td>\n",
              "      <td>1513528810</td>\n",
              "      <td>Jurassic World</td>\n",
              "      <td>Chris Pratt|Bryce Dallas Howard|Irrfan Khan|Vi...</td>\n",
              "      <td>http://www.jurassicworld.com/</td>\n",
              "      <td>Colin Trevorrow</td>\n",
              "      <td>The park is open.</td>\n",
              "      <td>monster|dna|tyrannosaurus rex|velociraptor|island</td>\n",
              "      <td>Twenty-two years after the events of Jurassic ...</td>\n",
              "      <td>124</td>\n",
              "      <td>Action|Adventure|Science Fiction|Thriller</td>\n",
              "      <td>Universal Studios|Amblin Entertainment|Legenda...</td>\n",
              "      <td>6/9/15</td>\n",
              "      <td>5562</td>\n",
              "      <td>6.5</td>\n",
              "      <td>2015</td>\n",
              "      <td>1.379999e+08</td>\n",
              "      <td>1.392446e+09</td>\n",
              "    </tr>\n",
              "    <tr>\n",
              "      <th>1</th>\n",
              "      <td>76341</td>\n",
              "      <td>tt1392190</td>\n",
              "      <td>28.419936</td>\n",
              "      <td>150000000</td>\n",
              "      <td>378436354</td>\n",
              "      <td>Mad Max: Fury Road</td>\n",
              "      <td>Tom Hardy|Charlize Theron|Hugh Keays-Byrne|Nic...</td>\n",
              "      <td>http://www.madmaxmovie.com/</td>\n",
              "      <td>George Miller</td>\n",
              "      <td>What a Lovely Day.</td>\n",
              "      <td>future|chase|post-apocalyptic|dystopia|australia</td>\n",
              "      <td>An apocalyptic story set in the furthest reach...</td>\n",
              "      <td>120</td>\n",
              "      <td>Action|Adventure|Science Fiction|Thriller</td>\n",
              "      <td>Village Roadshow Pictures|Kennedy Miller Produ...</td>\n",
              "      <td>5/13/15</td>\n",
              "      <td>6185</td>\n",
              "      <td>7.1</td>\n",
              "      <td>2015</td>\n",
              "      <td>1.379999e+08</td>\n",
              "      <td>3.481613e+08</td>\n",
              "    </tr>\n",
              "    <tr>\n",
              "      <th>2</th>\n",
              "      <td>262500</td>\n",
              "      <td>tt2908446</td>\n",
              "      <td>13.112507</td>\n",
              "      <td>110000000</td>\n",
              "      <td>295238201</td>\n",
              "      <td>Insurgent</td>\n",
              "      <td>Shailene Woodley|Theo James|Kate Winslet|Ansel...</td>\n",
              "      <td>http://www.thedivergentseries.movie/#insurgent</td>\n",
              "      <td>Robert Schwentke</td>\n",
              "      <td>One Choice Can Destroy You</td>\n",
              "      <td>based on novel|revolution|dystopia|sequel|dyst...</td>\n",
              "      <td>Beatrice Prior must confront her inner demons ...</td>\n",
              "      <td>119</td>\n",
              "      <td>Adventure|Science Fiction|Thriller</td>\n",
              "      <td>Summit Entertainment|Mandeville Films|Red Wago...</td>\n",
              "      <td>3/18/15</td>\n",
              "      <td>2480</td>\n",
              "      <td>6.3</td>\n",
              "      <td>2015</td>\n",
              "      <td>1.012000e+08</td>\n",
              "      <td>2.716190e+08</td>\n",
              "    </tr>\n",
              "  </tbody>\n",
              "</table>\n",
              "</div>"
            ],
            "text/plain": [
              "       id    imdb_id  popularity  ...  release_year    budget_adj   revenue_adj\n",
              "0  135397  tt0369610   32.985763  ...          2015  1.379999e+08  1.392446e+09\n",
              "1   76341  tt1392190   28.419936  ...          2015  1.379999e+08  3.481613e+08\n",
              "2  262500  tt2908446   13.112507  ...          2015  1.012000e+08  2.716190e+08\n",
              "\n",
              "[3 rows x 21 columns]"
            ]
          },
          "metadata": {
            "tags": []
          },
          "execution_count": 4
        }
      ]
    },
    {
      "cell_type": "code",
      "metadata": {
        "colab": {
          "base_uri": "https://localhost:8080/"
        },
        "id": "sHmPA5gy5Tj3",
        "outputId": "032c13d5-33ca-40ba-c394-ab0ee595176f"
      },
      "source": [
        "movies.genres.value_counts()"
      ],
      "execution_count": null,
      "outputs": [
        {
          "output_type": "execute_result",
          "data": {
            "text/plain": [
              "Comedy                                      712\n",
              "Drama                                       712\n",
              "Documentary                                 312\n",
              "Drama|Romance                               289\n",
              "Comedy|Drama                                280\n",
              "                                           ... \n",
              "Western|Action|Drama|Science Fiction          1\n",
              "History|Drama|Thriller|Crime|Mystery          1\n",
              "War|Drama|History|Action                      1\n",
              "Animation|Adventure|Action|Drama|Fantasy      1\n",
              "Action|Thriller|Science Fiction|Foreign       1\n",
              "Name: genres, Length: 2039, dtype: int64"
            ]
          },
          "metadata": {
            "tags": []
          },
          "execution_count": 4
        }
      ]
    },
    {
      "cell_type": "code",
      "metadata": {
        "colab": {
          "base_uri": "https://localhost:8080/",
          "height": 307
        },
        "id": "_8QVk7pTtQke",
        "outputId": "aba9cb87-2b21-4f63-f0d6-f68b172ad597"
      },
      "source": [
        "movies.describe()"
      ],
      "execution_count": null,
      "outputs": [
        {
          "output_type": "execute_result",
          "data": {
            "text/html": [
              "<div>\n",
              "<style scoped>\n",
              "    .dataframe tbody tr th:only-of-type {\n",
              "        vertical-align: middle;\n",
              "    }\n",
              "\n",
              "    .dataframe tbody tr th {\n",
              "        vertical-align: top;\n",
              "    }\n",
              "\n",
              "    .dataframe thead th {\n",
              "        text-align: right;\n",
              "    }\n",
              "</style>\n",
              "<table border=\"1\" class=\"dataframe\">\n",
              "  <thead>\n",
              "    <tr style=\"text-align: right;\">\n",
              "      <th></th>\n",
              "      <th>id</th>\n",
              "      <th>popularity</th>\n",
              "      <th>budget</th>\n",
              "      <th>revenue</th>\n",
              "      <th>runtime</th>\n",
              "      <th>vote_count</th>\n",
              "      <th>vote_average</th>\n",
              "      <th>release_year</th>\n",
              "      <th>budget_adj</th>\n",
              "      <th>revenue_adj</th>\n",
              "    </tr>\n",
              "  </thead>\n",
              "  <tbody>\n",
              "    <tr>\n",
              "      <th>count</th>\n",
              "      <td>10866.000000</td>\n",
              "      <td>10866.000000</td>\n",
              "      <td>1.086600e+04</td>\n",
              "      <td>1.086600e+04</td>\n",
              "      <td>10866.000000</td>\n",
              "      <td>10866.000000</td>\n",
              "      <td>10866.000000</td>\n",
              "      <td>10866.000000</td>\n",
              "      <td>1.086600e+04</td>\n",
              "      <td>1.086600e+04</td>\n",
              "    </tr>\n",
              "    <tr>\n",
              "      <th>mean</th>\n",
              "      <td>66064.177434</td>\n",
              "      <td>0.646441</td>\n",
              "      <td>1.462570e+07</td>\n",
              "      <td>3.982332e+07</td>\n",
              "      <td>102.070863</td>\n",
              "      <td>217.389748</td>\n",
              "      <td>5.974922</td>\n",
              "      <td>2001.322658</td>\n",
              "      <td>1.755104e+07</td>\n",
              "      <td>5.136436e+07</td>\n",
              "    </tr>\n",
              "    <tr>\n",
              "      <th>std</th>\n",
              "      <td>92130.136561</td>\n",
              "      <td>1.000185</td>\n",
              "      <td>3.091321e+07</td>\n",
              "      <td>1.170035e+08</td>\n",
              "      <td>31.381405</td>\n",
              "      <td>575.619058</td>\n",
              "      <td>0.935142</td>\n",
              "      <td>12.812941</td>\n",
              "      <td>3.430616e+07</td>\n",
              "      <td>1.446325e+08</td>\n",
              "    </tr>\n",
              "    <tr>\n",
              "      <th>min</th>\n",
              "      <td>5.000000</td>\n",
              "      <td>0.000065</td>\n",
              "      <td>0.000000e+00</td>\n",
              "      <td>0.000000e+00</td>\n",
              "      <td>0.000000</td>\n",
              "      <td>10.000000</td>\n",
              "      <td>1.500000</td>\n",
              "      <td>1960.000000</td>\n",
              "      <td>0.000000e+00</td>\n",
              "      <td>0.000000e+00</td>\n",
              "    </tr>\n",
              "    <tr>\n",
              "      <th>25%</th>\n",
              "      <td>10596.250000</td>\n",
              "      <td>0.207583</td>\n",
              "      <td>0.000000e+00</td>\n",
              "      <td>0.000000e+00</td>\n",
              "      <td>90.000000</td>\n",
              "      <td>17.000000</td>\n",
              "      <td>5.400000</td>\n",
              "      <td>1995.000000</td>\n",
              "      <td>0.000000e+00</td>\n",
              "      <td>0.000000e+00</td>\n",
              "    </tr>\n",
              "    <tr>\n",
              "      <th>50%</th>\n",
              "      <td>20669.000000</td>\n",
              "      <td>0.383856</td>\n",
              "      <td>0.000000e+00</td>\n",
              "      <td>0.000000e+00</td>\n",
              "      <td>99.000000</td>\n",
              "      <td>38.000000</td>\n",
              "      <td>6.000000</td>\n",
              "      <td>2006.000000</td>\n",
              "      <td>0.000000e+00</td>\n",
              "      <td>0.000000e+00</td>\n",
              "    </tr>\n",
              "    <tr>\n",
              "      <th>75%</th>\n",
              "      <td>75610.000000</td>\n",
              "      <td>0.713817</td>\n",
              "      <td>1.500000e+07</td>\n",
              "      <td>2.400000e+07</td>\n",
              "      <td>111.000000</td>\n",
              "      <td>145.750000</td>\n",
              "      <td>6.600000</td>\n",
              "      <td>2011.000000</td>\n",
              "      <td>2.085325e+07</td>\n",
              "      <td>3.369710e+07</td>\n",
              "    </tr>\n",
              "    <tr>\n",
              "      <th>max</th>\n",
              "      <td>417859.000000</td>\n",
              "      <td>32.985763</td>\n",
              "      <td>4.250000e+08</td>\n",
              "      <td>2.781506e+09</td>\n",
              "      <td>900.000000</td>\n",
              "      <td>9767.000000</td>\n",
              "      <td>9.200000</td>\n",
              "      <td>2015.000000</td>\n",
              "      <td>4.250000e+08</td>\n",
              "      <td>2.827124e+09</td>\n",
              "    </tr>\n",
              "  </tbody>\n",
              "</table>\n",
              "</div>"
            ],
            "text/plain": [
              "                  id    popularity  ...    budget_adj   revenue_adj\n",
              "count   10866.000000  10866.000000  ...  1.086600e+04  1.086600e+04\n",
              "mean    66064.177434      0.646441  ...  1.755104e+07  5.136436e+07\n",
              "std     92130.136561      1.000185  ...  3.430616e+07  1.446325e+08\n",
              "min         5.000000      0.000065  ...  0.000000e+00  0.000000e+00\n",
              "25%     10596.250000      0.207583  ...  0.000000e+00  0.000000e+00\n",
              "50%     20669.000000      0.383856  ...  0.000000e+00  0.000000e+00\n",
              "75%     75610.000000      0.713817  ...  2.085325e+07  3.369710e+07\n",
              "max    417859.000000     32.985763  ...  4.250000e+08  2.827124e+09\n",
              "\n",
              "[8 rows x 10 columns]"
            ]
          },
          "metadata": {
            "tags": []
          },
          "execution_count": 5
        }
      ]
    },
    {
      "cell_type": "code",
      "metadata": {
        "colab": {
          "base_uri": "https://localhost:8080/"
        },
        "id": "nBHVDD2TiAEY",
        "outputId": "b1417525-628d-4158-cafd-6340e10215d5"
      },
      "source": [
        "movies.info()"
      ],
      "execution_count": null,
      "outputs": [
        {
          "output_type": "stream",
          "text": [
            "<class 'pandas.core.frame.DataFrame'>\n",
            "RangeIndex: 10866 entries, 0 to 10865\n",
            "Data columns (total 21 columns):\n",
            " #   Column                Non-Null Count  Dtype  \n",
            "---  ------                --------------  -----  \n",
            " 0   id                    10866 non-null  int64  \n",
            " 1   imdb_id               10856 non-null  object \n",
            " 2   popularity            10866 non-null  float64\n",
            " 3   budget                10866 non-null  int64  \n",
            " 4   revenue               10866 non-null  int64  \n",
            " 5   original_title        10866 non-null  object \n",
            " 6   cast                  10790 non-null  object \n",
            " 7   homepage              2936 non-null   object \n",
            " 8   director              10822 non-null  object \n",
            " 9   tagline               8042 non-null   object \n",
            " 10  keywords              9373 non-null   object \n",
            " 11  overview              10862 non-null  object \n",
            " 12  runtime               10866 non-null  int64  \n",
            " 13  genres                10843 non-null  object \n",
            " 14  production_companies  9836 non-null   object \n",
            " 15  release_date          10866 non-null  object \n",
            " 16  vote_count            10866 non-null  int64  \n",
            " 17  vote_average          10866 non-null  float64\n",
            " 18  release_year          10866 non-null  int64  \n",
            " 19  budget_adj            10866 non-null  float64\n",
            " 20  revenue_adj           10866 non-null  float64\n",
            "dtypes: float64(4), int64(6), object(11)\n",
            "memory usage: 1.7+ MB\n"
          ],
          "name": "stdout"
        }
      ]
    },
    {
      "cell_type": "markdown",
      "metadata": {
        "id": "aCaVcoaf74s3"
      },
      "source": [
        "keeping the columns that will be used only"
      ]
    },
    {
      "cell_type": "code",
      "metadata": {
        "colab": {
          "base_uri": "https://localhost:8080/",
          "height": 137
        },
        "id": "sQBpugKRJqhg",
        "outputId": "bb59493f-37d5-4a00-c091-a7c6e6e0d4ae"
      },
      "source": [
        "used_columns = [\"revenue\",\"budget\",\"director\",\"genres\",\"release_date\", \"vote_average\"]\n",
        "movies = movies[used_columns]\n",
        "movies.head(3)"
      ],
      "execution_count": 5,
      "outputs": [
        {
          "output_type": "execute_result",
          "data": {
            "text/html": [
              "<div>\n",
              "<style scoped>\n",
              "    .dataframe tbody tr th:only-of-type {\n",
              "        vertical-align: middle;\n",
              "    }\n",
              "\n",
              "    .dataframe tbody tr th {\n",
              "        vertical-align: top;\n",
              "    }\n",
              "\n",
              "    .dataframe thead th {\n",
              "        text-align: right;\n",
              "    }\n",
              "</style>\n",
              "<table border=\"1\" class=\"dataframe\">\n",
              "  <thead>\n",
              "    <tr style=\"text-align: right;\">\n",
              "      <th></th>\n",
              "      <th>revenue</th>\n",
              "      <th>budget</th>\n",
              "      <th>director</th>\n",
              "      <th>genres</th>\n",
              "      <th>release_date</th>\n",
              "      <th>vote_average</th>\n",
              "    </tr>\n",
              "  </thead>\n",
              "  <tbody>\n",
              "    <tr>\n",
              "      <th>0</th>\n",
              "      <td>1513528810</td>\n",
              "      <td>150000000</td>\n",
              "      <td>Colin Trevorrow</td>\n",
              "      <td>Action|Adventure|Science Fiction|Thriller</td>\n",
              "      <td>6/9/15</td>\n",
              "      <td>6.5</td>\n",
              "    </tr>\n",
              "    <tr>\n",
              "      <th>1</th>\n",
              "      <td>378436354</td>\n",
              "      <td>150000000</td>\n",
              "      <td>George Miller</td>\n",
              "      <td>Action|Adventure|Science Fiction|Thriller</td>\n",
              "      <td>5/13/15</td>\n",
              "      <td>7.1</td>\n",
              "    </tr>\n",
              "    <tr>\n",
              "      <th>2</th>\n",
              "      <td>295238201</td>\n",
              "      <td>110000000</td>\n",
              "      <td>Robert Schwentke</td>\n",
              "      <td>Adventure|Science Fiction|Thriller</td>\n",
              "      <td>3/18/15</td>\n",
              "      <td>6.3</td>\n",
              "    </tr>\n",
              "  </tbody>\n",
              "</table>\n",
              "</div>"
            ],
            "text/plain": [
              "      revenue     budget  ... release_date vote_average\n",
              "0  1513528810  150000000  ...       6/9/15          6.5\n",
              "1   378436354  150000000  ...      5/13/15          7.1\n",
              "2   295238201  110000000  ...      3/18/15          6.3\n",
              "\n",
              "[3 rows x 6 columns]"
            ]
          },
          "metadata": {
            "tags": []
          },
          "execution_count": 5
        }
      ]
    },
    {
      "cell_type": "markdown",
      "metadata": {
        "id": "yaLYYF8ro3Pc"
      },
      "source": [
        "Dealing with nulls"
      ]
    },
    {
      "cell_type": "code",
      "metadata": {
        "colab": {
          "base_uri": "https://localhost:8080/",
          "height": 406
        },
        "id": "c27t8c5as3RU",
        "outputId": "bf452ea1-ccc4-4795-872e-dea8d8043cc1"
      },
      "source": [
        "is_null = movies.isnull().any(axis = 1) #getting rows contain any null value\n",
        "movies[is_null]"
      ],
      "execution_count": null,
      "outputs": [
        {
          "output_type": "execute_result",
          "data": {
            "text/html": [
              "<div>\n",
              "<style scoped>\n",
              "    .dataframe tbody tr th:only-of-type {\n",
              "        vertical-align: middle;\n",
              "    }\n",
              "\n",
              "    .dataframe tbody tr th {\n",
              "        vertical-align: top;\n",
              "    }\n",
              "\n",
              "    .dataframe thead th {\n",
              "        text-align: right;\n",
              "    }\n",
              "</style>\n",
              "<table border=\"1\" class=\"dataframe\">\n",
              "  <thead>\n",
              "    <tr style=\"text-align: right;\">\n",
              "      <th></th>\n",
              "      <th>revenue</th>\n",
              "      <th>budget</th>\n",
              "      <th>director</th>\n",
              "      <th>genres</th>\n",
              "      <th>release_date</th>\n",
              "    </tr>\n",
              "  </thead>\n",
              "  <tbody>\n",
              "    <tr>\n",
              "      <th>424</th>\n",
              "      <td>0</td>\n",
              "      <td>0</td>\n",
              "      <td>Guido Chiesa</td>\n",
              "      <td>NaN</td>\n",
              "      <td>10/29/15</td>\n",
              "    </tr>\n",
              "    <tr>\n",
              "      <th>532</th>\n",
              "      <td>0</td>\n",
              "      <td>0</td>\n",
              "      <td>NaN</td>\n",
              "      <td>Comedy</td>\n",
              "      <td>1/23/15</td>\n",
              "    </tr>\n",
              "    <tr>\n",
              "      <th>548</th>\n",
              "      <td>0</td>\n",
              "      <td>0</td>\n",
              "      <td>NaN</td>\n",
              "      <td>Documentary|Science Fiction</td>\n",
              "      <td>8/10/15</td>\n",
              "    </tr>\n",
              "    <tr>\n",
              "      <th>556</th>\n",
              "      <td>0</td>\n",
              "      <td>0</td>\n",
              "      <td>NaN</td>\n",
              "      <td>Comedy|Romance</td>\n",
              "      <td>1/24/15</td>\n",
              "    </tr>\n",
              "    <tr>\n",
              "      <th>620</th>\n",
              "      <td>0</td>\n",
              "      <td>0</td>\n",
              "      <td>Antonio Padovan|Bryan Norton|Marc Roussel|Ryan...</td>\n",
              "      <td>NaN</td>\n",
              "      <td>10/6/15</td>\n",
              "    </tr>\n",
              "    <tr>\n",
              "      <th>...</th>\n",
              "      <td>...</td>\n",
              "      <td>...</td>\n",
              "      <td>...</td>\n",
              "      <td>...</td>\n",
              "      <td>...</td>\n",
              "    </tr>\n",
              "    <tr>\n",
              "      <th>9593</th>\n",
              "      <td>0</td>\n",
              "      <td>0</td>\n",
              "      <td>NaN</td>\n",
              "      <td>Action|Adventure|Animation|Family|Fantasy</td>\n",
              "      <td>1/1/88</td>\n",
              "    </tr>\n",
              "    <tr>\n",
              "      <th>9799</th>\n",
              "      <td>0</td>\n",
              "      <td>0</td>\n",
              "      <td>David Lynch</td>\n",
              "      <td>NaN</td>\n",
              "      <td>1/1/74</td>\n",
              "    </tr>\n",
              "    <tr>\n",
              "      <th>10386</th>\n",
              "      <td>0</td>\n",
              "      <td>0</td>\n",
              "      <td>NaN</td>\n",
              "      <td>Documentary</td>\n",
              "      <td>10/3/93</td>\n",
              "    </tr>\n",
              "    <tr>\n",
              "      <th>10426</th>\n",
              "      <td>0</td>\n",
              "      <td>0</td>\n",
              "      <td>NaN</td>\n",
              "      <td>Music</td>\n",
              "      <td>12/25/67</td>\n",
              "    </tr>\n",
              "    <tr>\n",
              "      <th>10659</th>\n",
              "      <td>0</td>\n",
              "      <td>5000</td>\n",
              "      <td>Morton Lewis</td>\n",
              "      <td>NaN</td>\n",
              "      <td>2/10/70</td>\n",
              "    </tr>\n",
              "  </tbody>\n",
              "</table>\n",
              "<p>65 rows × 5 columns</p>\n",
              "</div>"
            ],
            "text/plain": [
              "       revenue  budget  ...                                     genres release_date\n",
              "424          0       0  ...                                        NaN     10/29/15\n",
              "532          0       0  ...                                     Comedy      1/23/15\n",
              "548          0       0  ...                Documentary|Science Fiction      8/10/15\n",
              "556          0       0  ...                             Comedy|Romance      1/24/15\n",
              "620          0       0  ...                                        NaN      10/6/15\n",
              "...        ...     ...  ...                                        ...          ...\n",
              "9593         0       0  ...  Action|Adventure|Animation|Family|Fantasy       1/1/88\n",
              "9799         0       0  ...                                        NaN       1/1/74\n",
              "10386        0       0  ...                                Documentary      10/3/93\n",
              "10426        0       0  ...                                      Music     12/25/67\n",
              "10659        0    5000  ...                                        NaN      2/10/70\n",
              "\n",
              "[65 rows x 5 columns]"
            ]
          },
          "metadata": {
            "tags": []
          },
          "execution_count": 7
        }
      ]
    },
    {
      "cell_type": "markdown",
      "metadata": {
        "id": "so8koa-p3VGd"
      },
      "source": [
        "I will remove the nulls of each column only when addressing a question uses this column so i will get to them in each question"
      ]
    },
    {
      "cell_type": "markdown",
      "metadata": {
        "id": "d2Re97KyLtfk"
      },
      "source": [
        "release_date need to be a date time not string:"
      ]
    },
    {
      "cell_type": "code",
      "metadata": {
        "id": "CBBBPmAy3qFK"
      },
      "source": [
        "movies.release_date = pd.to_datetime(movies.release_date) #converting the release_date to date time data type instead of object"
      ],
      "execution_count": 7,
      "outputs": []
    },
    {
      "cell_type": "code",
      "metadata": {
        "colab": {
          "base_uri": "https://localhost:8080/"
        },
        "id": "wZqEP6aVLytC",
        "outputId": "e9bf8fa2-fd09-468e-ead4-47f65cd5eac2"
      },
      "source": [
        "movies.info()"
      ],
      "execution_count": null,
      "outputs": [
        {
          "output_type": "stream",
          "text": [
            "<class 'pandas.core.frame.DataFrame'>\n",
            "RangeIndex: 10866 entries, 0 to 10865\n",
            "Data columns (total 6 columns):\n",
            " #   Column        Non-Null Count  Dtype         \n",
            "---  ------        --------------  -----         \n",
            " 0   revenue       10866 non-null  int64         \n",
            " 1   budget        10866 non-null  int64         \n",
            " 2   director      10822 non-null  object        \n",
            " 3   genres        10843 non-null  object        \n",
            " 4   release_date  10866 non-null  datetime64[ns]\n",
            " 5   vote_average  10866 non-null  float64       \n",
            "dtypes: datetime64[ns](1), float64(1), int64(2), object(2)\n",
            "memory usage: 509.5+ KB\n"
          ],
          "name": "stdout"
        }
      ]
    },
    {
      "cell_type": "markdown",
      "metadata": {
        "id": "x86nTtukMZr5"
      },
      "source": [
        "Cheking for outliers:"
      ]
    },
    {
      "cell_type": "code",
      "metadata": {
        "colab": {
          "base_uri": "https://localhost:8080/",
          "height": 354
        },
        "id": "3EVp_Fn-Mb91",
        "outputId": "b5330f28-b898-4277-f0d4-6f7c7a5ce493"
      },
      "source": [
        "sns.boxplot(movies.budget)\n",
        "addTitleLabels(\"budget\" , \"\", \"Budget Distribution\")"
      ],
      "execution_count": 12,
      "outputs": [
        {
          "output_type": "stream",
          "text": [
            "/usr/local/lib/python3.7/dist-packages/seaborn/_decorators.py:43: FutureWarning: Pass the following variable as a keyword arg: x. From version 0.12, the only valid positional argument will be `data`, and passing other arguments without an explicit keyword will result in an error or misinterpretation.\n",
            "  FutureWarning\n"
          ],
          "name": "stderr"
        },
        {
          "output_type": "display_data",
          "data": {
            "image/png": "[encoded data removed]",
            "text/plain": [
              "<Figure size 432x288 with 1 Axes>"
            ]
          },
          "metadata": {
            "tags": []
          }
        }
      ]
    },
    {
      "cell_type": "code",
      "metadata": {
        "colab": {
          "base_uri": "https://localhost:8080/"
        },
        "id": "FcP95nI9MqF8",
        "outputId": "37cabce4-0ce8-4687-b7f3-eb8455287005"
      },
      "source": [
        "movies.budget.describe().round(1)"
      ],
      "execution_count": null,
      "outputs": [
        {
          "output_type": "execute_result",
          "data": {
            "text/plain": [
              "count        10866.0\n",
              "mean      14625701.1\n",
              "std       30913213.8\n",
              "min              0.0\n",
              "25%              0.0\n",
              "50%              0.0\n",
              "75%       15000000.0\n",
              "max      425000000.0\n",
              "Name: budget, dtype: float64"
            ]
          },
          "metadata": {
            "tags": []
          },
          "execution_count": 87
        }
      ]
    },
    {
      "cell_type": "code",
      "metadata": {
        "colab": {
          "base_uri": "https://localhost:8080/"
        },
        "id": "yIdi7gZDNQMo",
        "outputId": "5700a008-ef4e-4386-b271-bb75b7b2334c"
      },
      "source": [
        "movies.budget.value_counts().sort_values(ascending = False).head(30)"
      ],
      "execution_count": null,
      "outputs": [
        {
          "output_type": "execute_result",
          "data": {
            "text/plain": [
              "0           5696\n",
              "20000000     190\n",
              "15000000     183\n",
              "25000000     178\n",
              "10000000     176\n",
              "30000000     165\n",
              "5000000      141\n",
              "40000000     134\n",
              "35000000     128\n",
              "12000000     120\n",
              "50000000     112\n",
              "6000000      109\n",
              "8000000      102\n",
              "3000000      101\n",
              "60000000      99\n",
              "7000000       92\n",
              "4000000       84\n",
              "2000000       81\n",
              "18000000      74\n",
              "1000000       73\n",
              "70000000      66\n",
              "11000000      65\n",
              "45000000      64\n",
              "80000000      62\n",
              "13000000      59\n",
              "17000000      59\n",
              "14000000      56\n",
              "22000000      54\n",
              "3500000       52\n",
              "75000000      51\n",
              "Name: budget, dtype: int64"
            ]
          },
          "metadata": {
            "tags": []
          },
          "execution_count": 105
        }
      ]
    },
    {
      "cell_type": "code",
      "metadata": {
        "colab": {
          "base_uri": "https://localhost:8080/",
          "height": 354
        },
        "id": "SwRfYHpHMcA1",
        "outputId": "7db3f6d9-6a71-4d88-8dc7-dbabd4a0a281"
      },
      "source": [
        "sns.boxplot(movies.revenue)\n",
        "addTitleLabels(\"revenue\" , \"\", \"revenue Distribution\")"
      ],
      "execution_count": 14,
      "outputs": [
        {
          "output_type": "stream",
          "text": [
            "/usr/local/lib/python3.7/dist-packages/seaborn/_decorators.py:43: FutureWarning: Pass the following variable as a keyword arg: x. From version 0.12, the only valid positional argument will be `data`, and passing other arguments without an explicit keyword will result in an error or misinterpretation.\n",
            "  FutureWarning\n"
          ],
          "name": "stderr"
        },
        {
          "output_type": "display_data",
          "data": {
            "image/png": "[encoded data removed]",
            "text/plain": [
              "<Figure size 432x288 with 1 Axes>"
            ]
          },
          "metadata": {
            "tags": []
          }
        }
      ]
    },
    {
      "cell_type": "code",
      "metadata": {
        "colab": {
          "base_uri": "https://localhost:8080/"
        },
        "id": "bH1aLunlTjli",
        "outputId": "38c02cd7-7e0b-44c7-dc3e-3a5b05d803e7"
      },
      "source": [
        "movies.revenue.value_counts().sort_values(ascending = False).head(30)"
      ],
      "execution_count": null,
      "outputs": [
        {
          "output_type": "execute_result",
          "data": {
            "text/plain": [
              "0            6016\n",
              "12000000       10\n",
              "10000000        8\n",
              "11000000        7\n",
              "6000000         6\n",
              "5000000         6\n",
              "2000000         6\n",
              "20000000        5\n",
              "14000000        5\n",
              "30000000        5\n",
              "13000000        5\n",
              "7000000         4\n",
              "4300000         4\n",
              "4000000         4\n",
              "1000000         4\n",
              "50000000        4\n",
              "25000000        4\n",
              "21000000        3\n",
              "70000000        3\n",
              "2500000         3\n",
              "3               3\n",
              "102000000       3\n",
              "100000000       3\n",
              "16              3\n",
              "29000000        3\n",
              "16000000        3\n",
              "11              3\n",
              "15              3\n",
              "6700000         3\n",
              "60000000        3\n",
              "Name: revenue, dtype: int64"
            ]
          },
          "metadata": {
            "tags": []
          },
          "execution_count": 106
        }
      ]
    },
    {
      "cell_type": "markdown",
      "metadata": {
        "id": "QVCI4BT9UKND"
      },
      "source": [
        "so sadly half of the rows or more have budget or revenue = 0 which is meaningless to me the movie should have any budget and revenue what ever it was so i'm removeing them in a new data frame"
      ]
    },
    {
      "cell_type": "markdown",
      "metadata": {
        "id": "iWNmAM8lRmGp"
      },
      "source": [
        "i will make a sepcefic data frame for the revenue-budget and profit (money stuff)"
      ]
    },
    {
      "cell_type": "code",
      "metadata": {
        "colab": {
          "base_uri": "https://localhost:8080/"
        },
        "id": "PRh6v_DFS8Vh",
        "outputId": "63c3c54d-3e76-4584-b488-3a38bae396ea"
      },
      "source": [
        "print(\"number of rows: \" , movies.shape[0])\n",
        "movies_money = movies[(movies.budget > 10) & (movies.revenue > 0) ] # the movie should have a budget of at least 10 dollar and have any revenue\n",
        "print(\"number of rows: \" , movies_money.shape[0])"
      ],
      "execution_count": 16,
      "outputs": [
        {
          "output_type": "stream",
          "text": [
            "number of rows:  10866\n",
            "number of rows:  3845\n"
          ],
          "name": "stdout"
        }
      ]
    },
    {
      "cell_type": "code",
      "metadata": {
        "colab": {
          "base_uri": "https://localhost:8080/",
          "height": 354
        },
        "id": "6VxvD_2WXNIj",
        "outputId": "c9fc64ba-9aad-4c26-bda2-61041597bcde"
      },
      "source": [
        "sns.boxplot(movies_money.revenue)\n",
        "addTitleLabels(\"revenue\" , \"\", \"Revenue Distribution After Cleaning\")"
      ],
      "execution_count": 17,
      "outputs": [
        {
          "output_type": "stream",
          "text": [
            "/usr/local/lib/python3.7/dist-packages/seaborn/_decorators.py:43: FutureWarning: Pass the following variable as a keyword arg: x. From version 0.12, the only valid positional argument will be `data`, and passing other arguments without an explicit keyword will result in an error or misinterpretation.\n",
            "  FutureWarning\n"
          ],
          "name": "stderr"
        },
        {
          "output_type": "display_data",
          "data": {
            "image/png": "[encoded data removed]",
            "text/plain": [
              "<Figure size 432x288 with 1 Axes>"
            ]
          },
          "metadata": {
            "tags": []
          }
        }
      ]
    },
    {
      "cell_type": "code",
      "metadata": {
        "colab": {
          "base_uri": "https://localhost:8080/",
          "height": 354
        },
        "id": "ZOe_WYpVXXD1",
        "outputId": "1337fe72-24c3-465d-c41a-2835d3761c1f"
      },
      "source": [
        "sns.boxplot(movies_money.budget)\n",
        "addTitleLabels(\"budget\" , \"\", \"Dudget Distribution After Cleaning\")"
      ],
      "execution_count": 18,
      "outputs": [
        {
          "output_type": "stream",
          "text": [
            "/usr/local/lib/python3.7/dist-packages/seaborn/_decorators.py:43: FutureWarning: Pass the following variable as a keyword arg: x. From version 0.12, the only valid positional argument will be `data`, and passing other arguments without an explicit keyword will result in an error or misinterpretation.\n",
            "  FutureWarning\n"
          ],
          "name": "stderr"
        },
        {
          "output_type": "display_data",
          "data": {
            "image/png": "[encoded data removed]",
            "text/plain": [
              "<Figure size 432x288 with 1 Axes>"
            ]
          },
          "metadata": {
            "tags": []
          }
        }
      ]
    },
    {
      "cell_type": "code",
      "metadata": {
        "colab": {
          "base_uri": "https://localhost:8080/",
          "height": 304
        },
        "id": "YhnQVBPrVnLq",
        "outputId": "8af8689a-2977-46e1-950e-3bcf02bf38b4"
      },
      "source": [
        "# calculate the movie profit\n",
        "movies_money[\"profit\"] = movies_money.revenue - movies_money.budget\n",
        "movies_money.head()"
      ],
      "execution_count": 19,
      "outputs": [
        {
          "output_type": "stream",
          "text": [
            "/usr/local/lib/python3.7/dist-packages/ipykernel_launcher.py:2: SettingWithCopyWarning: \n",
            "A value is trying to be set on a copy of a slice from a DataFrame.\n",
            "Try using .loc[row_indexer,col_indexer] = value instead\n",
            "\n",
            "See the caveats in the documentation: https://pandas.pydata.org/pandas-docs/stable/user_guide/indexing.html#returning-a-view-versus-a-copy\n",
            "  \n"
          ],
          "name": "stderr"
        },
        {
          "output_type": "execute_result",
          "data": {
            "text/html": [
              "<div>\n",
              "<style scoped>\n",
              "    .dataframe tbody tr th:only-of-type {\n",
              "        vertical-align: middle;\n",
              "    }\n",
              "\n",
              "    .dataframe tbody tr th {\n",
              "        vertical-align: top;\n",
              "    }\n",
              "\n",
              "    .dataframe thead th {\n",
              "        text-align: right;\n",
              "    }\n",
              "</style>\n",
              "<table border=\"1\" class=\"dataframe\">\n",
              "  <thead>\n",
              "    <tr style=\"text-align: right;\">\n",
              "      <th></th>\n",
              "      <th>revenue</th>\n",
              "      <th>budget</th>\n",
              "      <th>director</th>\n",
              "      <th>genres</th>\n",
              "      <th>release_date</th>\n",
              "      <th>vote_average</th>\n",
              "      <th>profit</th>\n",
              "    </tr>\n",
              "  </thead>\n",
              "  <tbody>\n",
              "    <tr>\n",
              "      <th>0</th>\n",
              "      <td>1513528810</td>\n",
              "      <td>150000000</td>\n",
              "      <td>Colin Trevorrow</td>\n",
              "      <td>Action|Adventure|Science Fiction|Thriller</td>\n",
              "      <td>2015-06-09</td>\n",
              "      <td>6.5</td>\n",
              "      <td>1363528810</td>\n",
              "    </tr>\n",
              "    <tr>\n",
              "      <th>1</th>\n",
              "      <td>378436354</td>\n",
              "      <td>150000000</td>\n",
              "      <td>George Miller</td>\n",
              "      <td>Action|Adventure|Science Fiction|Thriller</td>\n",
              "      <td>2015-05-13</td>\n",
              "      <td>7.1</td>\n",
              "      <td>228436354</td>\n",
              "    </tr>\n",
              "    <tr>\n",
              "      <th>2</th>\n",
              "      <td>295238201</td>\n",
              "      <td>110000000</td>\n",
              "      <td>Robert Schwentke</td>\n",
              "      <td>Adventure|Science Fiction|Thriller</td>\n",
              "      <td>2015-03-18</td>\n",
              "      <td>6.3</td>\n",
              "      <td>185238201</td>\n",
              "    </tr>\n",
              "    <tr>\n",
              "      <th>3</th>\n",
              "      <td>2068178225</td>\n",
              "      <td>200000000</td>\n",
              "      <td>J.J. Abrams</td>\n",
              "      <td>Action|Adventure|Science Fiction|Fantasy</td>\n",
              "      <td>2015-12-15</td>\n",
              "      <td>7.5</td>\n",
              "      <td>1868178225</td>\n",
              "    </tr>\n",
              "    <tr>\n",
              "      <th>4</th>\n",
              "      <td>1506249360</td>\n",
              "      <td>190000000</td>\n",
              "      <td>James Wan</td>\n",
              "      <td>Action|Crime|Thriller</td>\n",
              "      <td>2015-04-01</td>\n",
              "      <td>7.3</td>\n",
              "      <td>1316249360</td>\n",
              "    </tr>\n",
              "  </tbody>\n",
              "</table>\n",
              "</div>"
            ],
            "text/plain": [
              "      revenue     budget  ... vote_average      profit\n",
              "0  1513528810  150000000  ...          6.5  1363528810\n",
              "1   378436354  150000000  ...          7.1   228436354\n",
              "2   295238201  110000000  ...          6.3   185238201\n",
              "3  2068178225  200000000  ...          7.5  1868178225\n",
              "4  1506249360  190000000  ...          7.3  1316249360\n",
              "\n",
              "[5 rows x 7 columns]"
            ]
          },
          "metadata": {
            "tags": []
          },
          "execution_count": 19
        }
      ]
    },
    {
      "cell_type": "code",
      "metadata": {
        "colab": {
          "base_uri": "https://localhost:8080/",
          "height": 297
        },
        "id": "lMtBhUWsYP6i",
        "outputId": "576c790e-9035-47f9-987b-b4d3b4b7774e"
      },
      "source": [
        "movies_money.describe().round(1)"
      ],
      "execution_count": null,
      "outputs": [
        {
          "output_type": "execute_result",
          "data": {
            "text/html": [
              "<div>\n",
              "<style scoped>\n",
              "    .dataframe tbody tr th:only-of-type {\n",
              "        vertical-align: middle;\n",
              "    }\n",
              "\n",
              "    .dataframe tbody tr th {\n",
              "        vertical-align: top;\n",
              "    }\n",
              "\n",
              "    .dataframe thead th {\n",
              "        text-align: right;\n",
              "    }\n",
              "</style>\n",
              "<table border=\"1\" class=\"dataframe\">\n",
              "  <thead>\n",
              "    <tr style=\"text-align: right;\">\n",
              "      <th></th>\n",
              "      <th>revenue</th>\n",
              "      <th>budget</th>\n",
              "      <th>profit</th>\n",
              "    </tr>\n",
              "  </thead>\n",
              "  <tbody>\n",
              "    <tr>\n",
              "      <th>count</th>\n",
              "      <td>3.845000e+03</td>\n",
              "      <td>3845.0</td>\n",
              "      <td>3.845000e+03</td>\n",
              "    </tr>\n",
              "    <tr>\n",
              "      <th>mean</th>\n",
              "      <td>1.079389e+08</td>\n",
              "      <td>37298582.1</td>\n",
              "      <td>7.064035e+07</td>\n",
              "    </tr>\n",
              "    <tr>\n",
              "      <th>std</th>\n",
              "      <td>1.766687e+08</td>\n",
              "      <td>42215034.5</td>\n",
              "      <td>1.507614e+08</td>\n",
              "    </tr>\n",
              "    <tr>\n",
              "      <th>min</th>\n",
              "      <td>2.000000e+00</td>\n",
              "      <td>11.0</td>\n",
              "      <td>-4.139124e+08</td>\n",
              "    </tr>\n",
              "    <tr>\n",
              "      <th>25%</th>\n",
              "      <td>1.378284e+07</td>\n",
              "      <td>10000000.0</td>\n",
              "      <td>-1.346379e+06</td>\n",
              "    </tr>\n",
              "    <tr>\n",
              "      <th>50%</th>\n",
              "      <td>4.523654e+07</td>\n",
              "      <td>24000000.0</td>\n",
              "      <td>2.017943e+07</td>\n",
              "    </tr>\n",
              "    <tr>\n",
              "      <th>75%</th>\n",
              "      <td>1.245964e+08</td>\n",
              "      <td>50000000.0</td>\n",
              "      <td>8.200000e+07</td>\n",
              "    </tr>\n",
              "    <tr>\n",
              "      <th>max</th>\n",
              "      <td>2.781506e+09</td>\n",
              "      <td>425000000.0</td>\n",
              "      <td>2.544506e+09</td>\n",
              "    </tr>\n",
              "  </tbody>\n",
              "</table>\n",
              "</div>"
            ],
            "text/plain": [
              "            revenue       budget        profit\n",
              "count  3.845000e+03       3845.0  3.845000e+03\n",
              "mean   1.079389e+08   37298582.1  7.064035e+07\n",
              "std    1.766687e+08   42215034.5  1.507614e+08\n",
              "min    2.000000e+00         11.0 -4.139124e+08\n",
              "25%    1.378284e+07   10000000.0 -1.346379e+06\n",
              "50%    4.523654e+07   24000000.0  2.017943e+07\n",
              "75%    1.245964e+08   50000000.0  8.200000e+07\n",
              "max    2.781506e+09  425000000.0  2.544506e+09"
            ]
          },
          "metadata": {
            "tags": []
          },
          "execution_count": 142
        }
      ]
    },
    {
      "cell_type": "code",
      "metadata": {
        "colab": {
          "base_uri": "https://localhost:8080/"
        },
        "id": "3i_kYFCBYe1J",
        "outputId": "825d2bbd-f273-4bd3-c59b-4eadaf86d1c6"
      },
      "source": [
        "movies.columns"
      ],
      "execution_count": null,
      "outputs": [
        {
          "output_type": "execute_result",
          "data": {
            "text/plain": [
              "Index(['revenue', 'budget', 'director', 'genres', 'release_date'], dtype='object')"
            ]
          },
          "metadata": {
            "tags": []
          },
          "execution_count": 144
        }
      ]
    },
    {
      "cell_type": "code",
      "metadata": {
        "colab": {
          "base_uri": "https://localhost:8080/",
          "height": 80
        },
        "id": "13-oz1nAb8R-",
        "outputId": "b570106b-6775-4a00-c8d8-9f82ca5eb0ed"
      },
      "source": [
        "movies_money[(movies_money.director.isnull())]"
      ],
      "execution_count": null,
      "outputs": [
        {
          "output_type": "execute_result",
          "data": {
            "text/html": [
              "<div>\n",
              "<style scoped>\n",
              "    .dataframe tbody tr th:only-of-type {\n",
              "        vertical-align: middle;\n",
              "    }\n",
              "\n",
              "    .dataframe tbody tr th {\n",
              "        vertical-align: top;\n",
              "    }\n",
              "\n",
              "    .dataframe thead th {\n",
              "        text-align: right;\n",
              "    }\n",
              "</style>\n",
              "<table border=\"1\" class=\"dataframe\">\n",
              "  <thead>\n",
              "    <tr style=\"text-align: right;\">\n",
              "      <th></th>\n",
              "      <th>revenue</th>\n",
              "      <th>budget</th>\n",
              "      <th>director</th>\n",
              "      <th>genres</th>\n",
              "      <th>release_date</th>\n",
              "      <th>profit</th>\n",
              "    </tr>\n",
              "  </thead>\n",
              "  <tbody>\n",
              "    <tr>\n",
              "      <th>3276</th>\n",
              "      <td>11000000</td>\n",
              "      <td>4180000</td>\n",
              "      <td>NaN</td>\n",
              "      <td>Drama|Comedy|Romance|Foreign</td>\n",
              "      <td>2008-07-18</td>\n",
              "      <td>6820000</td>\n",
              "    </tr>\n",
              "  </tbody>\n",
              "</table>\n",
              "</div>"
            ],
            "text/plain": [
              "       revenue   budget  ... release_date   profit\n",
              "3276  11000000  4180000  ...   2008-07-18  6820000\n",
              "\n",
              "[1 rows x 6 columns]"
            ]
          },
          "metadata": {
            "tags": []
          },
          "execution_count": 163
        }
      ]
    },
    {
      "cell_type": "code",
      "metadata": {
        "colab": {
          "base_uri": "https://localhost:8080/",
          "height": 47
        },
        "id": "qwdtwBnrcV8m",
        "outputId": "ce15b048-4ed9-4984-9b13-09b4d414fabf"
      },
      "source": [
        "movies_clean = movies_money.drop( movies_money[(movies_money.director.isnull())].index[0] ) #dropping this row with no director\n",
        "movies_clean[(movies_clean.director.isnull())]"
      ],
      "execution_count": 20,
      "outputs": [
        {
          "output_type": "execute_result",
          "data": {
            "text/html": [
              "<div>\n",
              "<style scoped>\n",
              "    .dataframe tbody tr th:only-of-type {\n",
              "        vertical-align: middle;\n",
              "    }\n",
              "\n",
              "    .dataframe tbody tr th {\n",
              "        vertical-align: top;\n",
              "    }\n",
              "\n",
              "    .dataframe thead th {\n",
              "        text-align: right;\n",
              "    }\n",
              "</style>\n",
              "<table border=\"1\" class=\"dataframe\">\n",
              "  <thead>\n",
              "    <tr style=\"text-align: right;\">\n",
              "      <th></th>\n",
              "      <th>revenue</th>\n",
              "      <th>budget</th>\n",
              "      <th>director</th>\n",
              "      <th>genres</th>\n",
              "      <th>release_date</th>\n",
              "      <th>vote_average</th>\n",
              "      <th>profit</th>\n",
              "    </tr>\n",
              "  </thead>\n",
              "  <tbody>\n",
              "  </tbody>\n",
              "</table>\n",
              "</div>"
            ],
            "text/plain": [
              "Empty DataFrame\n",
              "Columns: [revenue, budget, director, genres, release_date, vote_average, profit]\n",
              "Index: []"
            ]
          },
          "metadata": {
            "tags": []
          },
          "execution_count": 20
        }
      ]
    },
    {
      "cell_type": "code",
      "metadata": {
        "colab": {
          "base_uri": "https://localhost:8080/",
          "height": 49
        },
        "id": "bpbI2CnIdvyY",
        "outputId": "90c21cff-a3c4-486b-9ac1-d718eebd2807"
      },
      "source": [
        "movies_clean[(movies_clean.release_date.isnull())] # check for nulls in release_date column"
      ],
      "execution_count": null,
      "outputs": [
        {
          "output_type": "execute_result",
          "data": {
            "text/html": [
              "<div>\n",
              "<style scoped>\n",
              "    .dataframe tbody tr th:only-of-type {\n",
              "        vertical-align: middle;\n",
              "    }\n",
              "\n",
              "    .dataframe tbody tr th {\n",
              "        vertical-align: top;\n",
              "    }\n",
              "\n",
              "    .dataframe thead th {\n",
              "        text-align: right;\n",
              "    }\n",
              "</style>\n",
              "<table border=\"1\" class=\"dataframe\">\n",
              "  <thead>\n",
              "    <tr style=\"text-align: right;\">\n",
              "      <th></th>\n",
              "      <th>revenue</th>\n",
              "      <th>budget</th>\n",
              "      <th>director</th>\n",
              "      <th>genres</th>\n",
              "      <th>release_date</th>\n",
              "      <th>profit</th>\n",
              "    </tr>\n",
              "  </thead>\n",
              "  <tbody>\n",
              "  </tbody>\n",
              "</table>\n",
              "</div>"
            ],
            "text/plain": [
              "Empty DataFrame\n",
              "Columns: [revenue, budget, director, genres, release_date, profit]\n",
              "Index: []"
            ]
          },
          "metadata": {
            "tags": []
          },
          "execution_count": 165
        }
      ]
    },
    {
      "cell_type": "code",
      "metadata": {
        "colab": {
          "base_uri": "https://localhost:8080/",
          "height": 49
        },
        "id": "9NQyFjqfeZpk",
        "outputId": "4223a0f5-0220-4b2e-d8f5-70d162a636c5"
      },
      "source": [
        "movies_clean[(movies_clean.genres.isnull())] # check for nulls in genres column"
      ],
      "execution_count": null,
      "outputs": [
        {
          "output_type": "execute_result",
          "data": {
            "text/html": [
              "<div>\n",
              "<style scoped>\n",
              "    .dataframe tbody tr th:only-of-type {\n",
              "        vertical-align: middle;\n",
              "    }\n",
              "\n",
              "    .dataframe tbody tr th {\n",
              "        vertical-align: top;\n",
              "    }\n",
              "\n",
              "    .dataframe thead th {\n",
              "        text-align: right;\n",
              "    }\n",
              "</style>\n",
              "<table border=\"1\" class=\"dataframe\">\n",
              "  <thead>\n",
              "    <tr style=\"text-align: right;\">\n",
              "      <th></th>\n",
              "      <th>revenue</th>\n",
              "      <th>budget</th>\n",
              "      <th>director</th>\n",
              "      <th>genres</th>\n",
              "      <th>release_date</th>\n",
              "      <th>profit</th>\n",
              "    </tr>\n",
              "  </thead>\n",
              "  <tbody>\n",
              "  </tbody>\n",
              "</table>\n",
              "</div>"
            ],
            "text/plain": [
              "Empty DataFrame\n",
              "Columns: [revenue, budget, director, genres, release_date, profit]\n",
              "Index: []"
            ]
          },
          "metadata": {
            "tags": []
          },
          "execution_count": 166
        }
      ]
    },
    {
      "cell_type": "markdown",
      "metadata": {
        "id": "50d6l-Xsee7R"
      },
      "source": [
        "now the data is clean and ready for explorations"
      ]
    },
    {
      "cell_type": "markdown",
      "metadata": {
        "id": "vIwMRv0ZZmKs"
      },
      "source": [
        "<a id='eda'></a>\n",
        "## Exploratory Data Analysis\n",
        "\n",
        "\n"
      ]
    },
    {
      "cell_type": "markdown",
      "metadata": {
        "id": "A_9YKlhE6Z7U"
      },
      "source": [
        "### Research Question 1 (Dose movie revenue is affected by the month of the rlease then we focus on specific monthes ?)"
      ]
    },
    {
      "cell_type": "code",
      "metadata": {
        "collapsed": true,
        "id": "xRBWnUm5ZmKt",
        "colab": {
          "base_uri": "https://localhost:8080/",
          "height": 197
        },
        "outputId": "f579814c-59af-4600-80ff-79ca3caa6ad8"
      },
      "source": [
        "movies_clean[\"month\"] = movies_clean.release_date.dt.month # extracting the month from the release_date\n",
        "movies_clean.head()"
      ],
      "execution_count": 23,
      "outputs": [
        {
          "output_type": "execute_result",
          "data": {
            "text/html": [
              "<div>\n",
              "<style scoped>\n",
              "    .dataframe tbody tr th:only-of-type {\n",
              "        vertical-align: middle;\n",
              "    }\n",
              "\n",
              "    .dataframe tbody tr th {\n",
              "        vertical-align: top;\n",
              "    }\n",
              "\n",
              "    .dataframe thead th {\n",
              "        text-align: right;\n",
              "    }\n",
              "</style>\n",
              "<table border=\"1\" class=\"dataframe\">\n",
              "  <thead>\n",
              "    <tr style=\"text-align: right;\">\n",
              "      <th></th>\n",
              "      <th>revenue</th>\n",
              "      <th>budget</th>\n",
              "      <th>director</th>\n",
              "      <th>genres</th>\n",
              "      <th>release_date</th>\n",
              "      <th>vote_average</th>\n",
              "      <th>profit</th>\n",
              "      <th>month</th>\n",
              "    </tr>\n",
              "  </thead>\n",
              "  <tbody>\n",
              "    <tr>\n",
              "      <th>0</th>\n",
              "      <td>1513528810</td>\n",
              "      <td>150000000</td>\n",
              "      <td>Colin Trevorrow</td>\n",
              "      <td>Action|Adventure|Science Fiction|Thriller</td>\n",
              "      <td>2015-06-09</td>\n",
              "      <td>6.5</td>\n",
              "      <td>1363528810</td>\n",
              "      <td>6</td>\n",
              "    </tr>\n",
              "    <tr>\n",
              "      <th>1</th>\n",
              "      <td>378436354</td>\n",
              "      <td>150000000</td>\n",
              "      <td>George Miller</td>\n",
              "      <td>Action|Adventure|Science Fiction|Thriller</td>\n",
              "      <td>2015-05-13</td>\n",
              "      <td>7.1</td>\n",
              "      <td>228436354</td>\n",
              "      <td>5</td>\n",
              "    </tr>\n",
              "    <tr>\n",
              "      <th>2</th>\n",
              "      <td>295238201</td>\n",
              "      <td>110000000</td>\n",
              "      <td>Robert Schwentke</td>\n",
              "      <td>Adventure|Science Fiction|Thriller</td>\n",
              "      <td>2015-03-18</td>\n",
              "      <td>6.3</td>\n",
              "      <td>185238201</td>\n",
              "      <td>3</td>\n",
              "    </tr>\n",
              "    <tr>\n",
              "      <th>3</th>\n",
              "      <td>2068178225</td>\n",
              "      <td>200000000</td>\n",
              "      <td>J.J. Abrams</td>\n",
              "      <td>Action|Adventure|Science Fiction|Fantasy</td>\n",
              "      <td>2015-12-15</td>\n",
              "      <td>7.5</td>\n",
              "      <td>1868178225</td>\n",
              "      <td>12</td>\n",
              "    </tr>\n",
              "    <tr>\n",
              "      <th>4</th>\n",
              "      <td>1506249360</td>\n",
              "      <td>190000000</td>\n",
              "      <td>James Wan</td>\n",
              "      <td>Action|Crime|Thriller</td>\n",
              "      <td>2015-04-01</td>\n",
              "      <td>7.3</td>\n",
              "      <td>1316249360</td>\n",
              "      <td>4</td>\n",
              "    </tr>\n",
              "  </tbody>\n",
              "</table>\n",
              "</div>"
            ],
            "text/plain": [
              "      revenue     budget          director  ... vote_average      profit  month\n",
              "0  1513528810  150000000   Colin Trevorrow  ...          6.5  1363528810      6\n",
              "1   378436354  150000000     George Miller  ...          7.1   228436354      5\n",
              "2   295238201  110000000  Robert Schwentke  ...          6.3   185238201      3\n",
              "3  2068178225  200000000       J.J. Abrams  ...          7.5  1868178225     12\n",
              "4  1506249360  190000000         James Wan  ...          7.3  1316249360      4\n",
              "\n",
              "[5 rows x 8 columns]"
            ]
          },
          "metadata": {
            "tags": []
          },
          "execution_count": 23
        }
      ]
    },
    {
      "cell_type": "code",
      "metadata": {
        "colab": {
          "base_uri": "https://localhost:8080/",
          "height": 302
        },
        "id": "0SV3q9BMVACV",
        "outputId": "0ed3e674-716f-472a-976a-ddb78015f8e8"
      },
      "source": [
        "sns.set_theme(style=\"whitegrid\")\n",
        "sns.barplot(x=\"month\", y=\"revenue\", data = movies_clean)\n",
        "addTitleLabels(\"month\" , \"revenue (le8)\", \"Revenue by Month\")"
      ],
      "execution_count": 47,
      "outputs": [
        {
          "output_type": "display_data",
          "data": {
            "image/png": "[encoded data removed]",
            "text/plain": [
              "<Figure size 432x288 with 1 Axes>"
            ]
          },
          "metadata": {
            "tags": []
          }
        }
      ]
    },
    {
      "cell_type": "markdown",
      "metadata": {
        "id": "8jLDP5F2V1Wy"
      },
      "source": [
        "1e8 is standard scientific notion, and here it indicates an overall scale factor for the y-axis. That is, if there's a 2 on the y-axis and a 1e8 at the top, the value at 2 actually indicates 2*1e8 = 2e8 = 2 * 10^8 = 200,000,000."
      ]
    },
    {
      "cell_type": "markdown",
      "metadata": {
        "id": "MxstrvIWWIpq"
      },
      "source": [
        "It's clear that summer season is the hottest for movies, that movies lunched in monthes (5,6,7) are getting the hieghst revenue. Also after these monthes the revenue start to decerease to reach the minumim revenue at the 9th month"
      ]
    },
    {
      "cell_type": "code",
      "metadata": {
        "colab": {
          "base_uri": "https://localhost:8080/",
          "height": 302
        },
        "id": "DRO8zCdCXdwQ",
        "outputId": "f679a8a6-b85b-4616-cb68-7ae7715c589c"
      },
      "source": [
        "sns.set_theme(style=\"whitegrid\")\n",
        "sns.barplot(x=\"month\", y=\"budget\", data = movies_clean)\n",
        "addTitleLabels(\"month\" , \"budget (le7)\", \"Budget by Month\")"
      ],
      "execution_count": 43,
      "outputs": [
        {
          "output_type": "display_data",
          "data": {
            "image/png": "[encoded data removed]",
            "text/plain": [
              "<Figure size 432x288 with 1 Axes>"
            ]
          },
          "metadata": {
            "tags": []
          }
        }
      ]
    },
    {
      "cell_type": "markdown",
      "metadata": {
        "id": "nizRbBn9XwhH"
      },
      "source": [
        "The budget has the same distribution of revenue"
      ]
    },
    {
      "cell_type": "markdown",
      "metadata": {
        "id": "xRAYiLDKZmKu"
      },
      "source": [
        "### Research Question 2  (Is there a relationship between the movie rate and the director of the movie so when i as a producer choose X director i can expect an average rate for the movie ?)"
      ]
    },
    {
      "cell_type": "code",
      "metadata": {
        "colab": {
          "base_uri": "https://localhost:8080/"
        },
        "id": "m_fyXs9jX6P_",
        "outputId": "9f74f182-c148-4aaa-e185-b6ef924b5444"
      },
      "source": [
        "movies.info()"
      ],
      "execution_count": null,
      "outputs": [
        {
          "output_type": "stream",
          "text": [
            "<class 'pandas.core.frame.DataFrame'>\n",
            "RangeIndex: 10866 entries, 0 to 10865\n",
            "Data columns (total 6 columns):\n",
            " #   Column        Non-Null Count  Dtype         \n",
            "---  ------        --------------  -----         \n",
            " 0   revenue       10866 non-null  int64         \n",
            " 1   budget        10866 non-null  int64         \n",
            " 2   director      10822 non-null  object        \n",
            " 3   genres        10843 non-null  object        \n",
            " 4   release_date  10866 non-null  datetime64[ns]\n",
            " 5   vote_average  10866 non-null  float64       \n",
            "dtypes: datetime64[ns](1), float64(1), int64(2), object(2)\n",
            "memory usage: 509.5+ KB\n"
          ],
          "name": "stdout"
        }
      ]
    },
    {
      "cell_type": "markdown",
      "metadata": {
        "id": "_79rgZz1Y3CC"
      },
      "source": [
        "Since vote_average contains no nulls and director contains a few i will use the original movies data frame and remove the null rows only in director"
      ]
    },
    {
      "cell_type": "code",
      "metadata": {
        "colab": {
          "base_uri": "https://localhost:8080/"
        },
        "id": "8Z6r3-vtZE-u",
        "outputId": "e15103c7-332c-4f0d-9cae-e84858a733c3"
      },
      "source": [
        "movies_rating = movies[[\"director\" , \"vote_average\"]]\n",
        "movies_rating.dropna(inplace = True )\n",
        "movies_rating.info()"
      ],
      "execution_count": 26,
      "outputs": [
        {
          "output_type": "stream",
          "text": [
            "<class 'pandas.core.frame.DataFrame'>\n",
            "Int64Index: 10822 entries, 0 to 10865\n",
            "Data columns (total 2 columns):\n",
            " #   Column        Non-Null Count  Dtype  \n",
            "---  ------        --------------  -----  \n",
            " 0   director      10822 non-null  object \n",
            " 1   vote_average  10822 non-null  float64\n",
            "dtypes: float64(1), object(1)\n",
            "memory usage: 253.6+ KB\n"
          ],
          "name": "stdout"
        },
        {
          "output_type": "stream",
          "text": [
            "/usr/local/lib/python3.7/dist-packages/ipykernel_launcher.py:2: SettingWithCopyWarning: \n",
            "A value is trying to be set on a copy of a slice from a DataFrame\n",
            "\n",
            "See the caveats in the documentation: https://pandas.pydata.org/pandas-docs/stable/user_guide/indexing.html#returning-a-view-versus-a-copy\n",
            "  \n"
          ],
          "name": "stderr"
        }
      ]
    },
    {
      "cell_type": "code",
      "metadata": {
        "colab": {
          "base_uri": "https://localhost:8080/",
          "height": 302
        },
        "id": "2DICQ80uZexQ",
        "outputId": "7a4701dd-7687-45fb-c9dc-2263c378c3fd"
      },
      "source": [
        "movies_rating.vote_average.hist() #rating ditribution\n",
        "addTitleLabels(\"Average Vote\" , \"Frequency\", \"Average Vote Distribution\")"
      ],
      "execution_count": 27,
      "outputs": [
        {
          "output_type": "display_data",
          "data": {
            "image/png": "[encoded data removed]",
            "text/plain": [
              "<Figure size 432x288 with 1 Axes>"
            ]
          },
          "metadata": {
            "tags": []
          }
        }
      ]
    },
    {
      "cell_type": "code",
      "metadata": {
        "colab": {
          "base_uri": "https://localhost:8080/",
          "height": 357
        },
        "id": "JWUZmBgqZe76",
        "outputId": "e44e23a9-53c7-42c1-f4dd-4da56ddb14cc"
      },
      "source": [
        "sns.boxenplot(movies_rating.vote_average)\n",
        "addTitleLabels(\"Average Vote\" , \"\", \"Average Vote Distribution\")"
      ],
      "execution_count": 28,
      "outputs": [
        {
          "output_type": "stream",
          "text": [
            "/usr/local/lib/python3.7/dist-packages/seaborn/_decorators.py:43: FutureWarning: Pass the following variable as a keyword arg: x. From version 0.12, the only valid positional argument will be `data`, and passing other arguments without an explicit keyword will result in an error or misinterpretation.\n",
            "  FutureWarning\n"
          ],
          "name": "stderr"
        },
        {
          "output_type": "display_data",
          "data": {
            "image/png": "[encoded data removed]",
            "text/plain": [
              "<Figure size 432x288 with 1 Axes>"
            ]
          },
          "metadata": {
            "tags": []
          }
        }
      ]
    },
    {
      "cell_type": "code",
      "metadata": {
        "colab": {
          "base_uri": "https://localhost:8080/",
          "height": 436
        },
        "id": "eGZOx5S2dYFz",
        "outputId": "cd77e266-d813-4897-b5c7-d01f75c8d231"
      },
      "source": [
        "def std(x): #get standard deviation\n",
        "    return np.std(x)\n",
        "\n",
        "\n",
        "director_rating = movies_rating.groupby('director').agg(['mean', 'max', 'min','count', std]).reset_index() #for each director get the mean,max.min and count of his movies rates\n",
        "director_rating[director_rating.vote_average[\"count\"] > 2] #show only directors made more than 2 films"
      ],
      "execution_count": 29,
      "outputs": [
        {
          "output_type": "execute_result",
          "data": {
            "text/html": [
              "<div>\n",
              "<style scoped>\n",
              "    .dataframe tbody tr th:only-of-type {\n",
              "        vertical-align: middle;\n",
              "    }\n",
              "\n",
              "    .dataframe tbody tr th {\n",
              "        vertical-align: top;\n",
              "    }\n",
              "\n",
              "    .dataframe thead tr th {\n",
              "        text-align: left;\n",
              "    }\n",
              "</style>\n",
              "<table border=\"1\" class=\"dataframe\">\n",
              "  <thead>\n",
              "    <tr>\n",
              "      <th></th>\n",
              "      <th>director</th>\n",
              "      <th colspan=\"5\" halign=\"left\">vote_average</th>\n",
              "    </tr>\n",
              "    <tr>\n",
              "      <th></th>\n",
              "      <th></th>\n",
              "      <th>mean</th>\n",
              "      <th>max</th>\n",
              "      <th>min</th>\n",
              "      <th>count</th>\n",
              "      <th>std</th>\n",
              "    </tr>\n",
              "  </thead>\n",
              "  <tbody>\n",
              "    <tr>\n",
              "      <th>10</th>\n",
              "      <td>Aaron Norris</td>\n",
              "      <td>5.120000</td>\n",
              "      <td>5.7</td>\n",
              "      <td>4.7</td>\n",
              "      <td>5</td>\n",
              "      <td>0.337046</td>\n",
              "    </tr>\n",
              "    <tr>\n",
              "      <th>19</th>\n",
              "      <td>Abel Ferrara</td>\n",
              "      <td>5.400000</td>\n",
              "      <td>6.3</td>\n",
              "      <td>4.2</td>\n",
              "      <td>8</td>\n",
              "      <td>0.644205</td>\n",
              "    </tr>\n",
              "    <tr>\n",
              "      <th>23</th>\n",
              "      <td>Adam Curtis</td>\n",
              "      <td>7.900000</td>\n",
              "      <td>8.3</td>\n",
              "      <td>7.6</td>\n",
              "      <td>3</td>\n",
              "      <td>0.294392</td>\n",
              "    </tr>\n",
              "    <tr>\n",
              "      <th>28</th>\n",
              "      <td>Adam Gierasch</td>\n",
              "      <td>4.233333</td>\n",
              "      <td>4.5</td>\n",
              "      <td>4.0</td>\n",
              "      <td>3</td>\n",
              "      <td>0.205480</td>\n",
              "    </tr>\n",
              "    <tr>\n",
              "      <th>29</th>\n",
              "      <td>Adam Green</td>\n",
              "      <td>5.400000</td>\n",
              "      <td>5.8</td>\n",
              "      <td>5.1</td>\n",
              "      <td>4</td>\n",
              "      <td>0.254951</td>\n",
              "    </tr>\n",
              "    <tr>\n",
              "      <th>...</th>\n",
              "      <td>...</td>\n",
              "      <td>...</td>\n",
              "      <td>...</td>\n",
              "      <td>...</td>\n",
              "      <td>...</td>\n",
              "      <td>...</td>\n",
              "    </tr>\n",
              "    <tr>\n",
              "      <th>5032</th>\n",
              "      <td>Yves Simoneau</td>\n",
              "      <td>6.225000</td>\n",
              "      <td>6.8</td>\n",
              "      <td>5.4</td>\n",
              "      <td>4</td>\n",
              "      <td>0.521416</td>\n",
              "    </tr>\n",
              "    <tr>\n",
              "      <th>5043</th>\n",
              "      <td>Zack Snyder</td>\n",
              "      <td>6.566667</td>\n",
              "      <td>7.0</td>\n",
              "      <td>5.9</td>\n",
              "      <td>6</td>\n",
              "      <td>0.344803</td>\n",
              "    </tr>\n",
              "    <tr>\n",
              "      <th>5050</th>\n",
              "      <td>Zalman King</td>\n",
              "      <td>4.433333</td>\n",
              "      <td>4.6</td>\n",
              "      <td>4.3</td>\n",
              "      <td>3</td>\n",
              "      <td>0.124722</td>\n",
              "    </tr>\n",
              "    <tr>\n",
              "      <th>5059</th>\n",
              "      <td>Ãlex de la Iglesia</td>\n",
              "      <td>6.025000</td>\n",
              "      <td>6.5</td>\n",
              "      <td>5.6</td>\n",
              "      <td>4</td>\n",
              "      <td>0.349106</td>\n",
              "    </tr>\n",
              "    <tr>\n",
              "      <th>5065</th>\n",
              "      <td>Ã‰tienne Chatiliez</td>\n",
              "      <td>6.700000</td>\n",
              "      <td>7.2</td>\n",
              "      <td>5.7</td>\n",
              "      <td>3</td>\n",
              "      <td>0.707107</td>\n",
              "    </tr>\n",
              "  </tbody>\n",
              "</table>\n",
              "<p>1076 rows × 6 columns</p>\n",
              "</div>"
            ],
            "text/plain": [
              "                director vote_average                          \n",
              "                                 mean  max  min count       std\n",
              "10          Aaron Norris     5.120000  5.7  4.7     5  0.337046\n",
              "19          Abel Ferrara     5.400000  6.3  4.2     8  0.644205\n",
              "23           Adam Curtis     7.900000  8.3  7.6     3  0.294392\n",
              "28         Adam Gierasch     4.233333  4.5  4.0     3  0.205480\n",
              "29            Adam Green     5.400000  5.8  5.1     4  0.254951\n",
              "...                  ...          ...  ...  ...   ...       ...\n",
              "5032       Yves Simoneau     6.225000  6.8  5.4     4  0.521416\n",
              "5043         Zack Snyder     6.566667  7.0  5.9     6  0.344803\n",
              "5050         Zalman King     4.433333  4.6  4.3     3  0.124722\n",
              "5059  Ãlex de la Iglesia     6.025000  6.5  5.6     4  0.349106\n",
              "5065  Ã‰tienne Chatiliez     6.700000  7.2  5.7     3  0.707107\n",
              "\n",
              "[1076 rows x 6 columns]"
            ]
          },
          "metadata": {
            "tags": []
          },
          "execution_count": 29
        }
      ]
    },
    {
      "cell_type": "code",
      "metadata": {
        "colab": {
          "base_uri": "https://localhost:8080/",
          "height": 302
        },
        "id": "ah7g30nvjSZZ",
        "outputId": "9df78c80-c3f5-4337-fe71-b85fcd29e397"
      },
      "source": [
        "# get the rating standard deviations of movies for directors produced more than 2 films  \n",
        "director_rating[director_rating.vote_average['count'] > 2].vote_average[\"std\"].hist()\n",
        "addTitleLabels(\"STD\" , \"Frequncy\", \"standard deviation between directors average movie rate and all their rate\")"
      ],
      "execution_count": 42,
      "outputs": [
        {
          "output_type": "display_data",
          "data": {
            "image/png": "[encoded data removed]",
            "text/plain": [
              "<Figure size 432x288 with 1 Axes>"
            ]
          },
          "metadata": {
            "tags": []
          }
        }
      ]
    },
    {
      "cell_type": "markdown",
      "metadata": {
        "id": "lWD2Vxe2kn1f"
      },
      "source": [
        "we can see that the standard deviation is skewed toward low values which indicate that the directors have average movie rating and you can be a little confident that this director movie will not deviate a lot about that average "
      ]
    },
    {
      "cell_type": "markdown",
      "metadata": {
        "id": "Gz6ueqqte5PQ"
      },
      "source": [
        "### Research Question 3  (Does gener of the movie gurantee a specific profit ?)"
      ]
    },
    {
      "cell_type": "code",
      "metadata": {
        "id": "IegtDeq0e5xL",
        "colab": {
          "base_uri": "https://localhost:8080/"
        },
        "outputId": "49b726c6-d912-4664-a9ac-098fb2c8b66e"
      },
      "source": [
        "movies_clean.info()"
      ],
      "execution_count": null,
      "outputs": [
        {
          "output_type": "stream",
          "text": [
            "<class 'pandas.core.frame.DataFrame'>\n",
            "Int64Index: 3844 entries, 0 to 10848\n",
            "Data columns (total 8 columns):\n",
            " #   Column        Non-Null Count  Dtype         \n",
            "---  ------        --------------  -----         \n",
            " 0   revenue       3844 non-null   int64         \n",
            " 1   budget        3844 non-null   int64         \n",
            " 2   director      3844 non-null   object        \n",
            " 3   genres        3844 non-null   object        \n",
            " 4   release_date  3844 non-null   datetime64[ns]\n",
            " 5   vote_average  3844 non-null   float64       \n",
            " 6   profit        3844 non-null   int64         \n",
            " 7   month         3844 non-null   int64         \n",
            "dtypes: datetime64[ns](1), float64(1), int64(4), object(2)\n",
            "memory usage: 270.3+ KB\n"
          ],
          "name": "stdout"
        }
      ]
    },
    {
      "cell_type": "markdown",
      "metadata": {
        "id": "ziRgU0tvlqnE"
      },
      "source": [
        "any movie genre that is repeted only once is not beneficial "
      ]
    },
    {
      "cell_type": "code",
      "metadata": {
        "colab": {
          "base_uri": "https://localhost:8080/"
        },
        "id": "rkqPlUQTlg2z",
        "outputId": "a06c9713-cfde-4a6f-d3a9-b6059d0c5162"
      },
      "source": [
        "movies_clean2 = movies_clean[['genres' , \"profit\" , \"revenue\"]]\n",
        "movies_clean.genres.value_counts()"
      ],
      "execution_count": 33,
      "outputs": [
        {
          "output_type": "execute_result",
          "data": {
            "text/plain": [
              "Drama                                           245\n",
              "Comedy                                          232\n",
              "Drama|Romance                                   107\n",
              "Comedy|Romance                                  102\n",
              "Comedy|Drama|Romance                             91\n",
              "                                               ... \n",
              "Action|Comedy|Horror|Mystery|Science Fiction      1\n",
              "Fantasy|Drama|Crime                               1\n",
              "Fantasy|Drama|Comedy|Romance|Family               1\n",
              "Action|Comedy|Thriller|Crime|Mystery              1\n",
              "Drama|Thriller|Mystery|War                        1\n",
              "Name: genres, Length: 1052, dtype: int64"
            ]
          },
          "metadata": {
            "tags": []
          },
          "execution_count": 33
        }
      ]
    },
    {
      "cell_type": "code",
      "metadata": {
        "colab": {
          "base_uri": "https://localhost:8080/",
          "height": 513
        },
        "id": "6VyOQRI_mgCV",
        "outputId": "350ae0b8-a903-40da-8d94-8ea25f8fb8e1"
      },
      "source": [
        "movies_clean2['freq'] = movies_clean2.groupby('genres')['genres'].transform('count') #get me how many each genre was repedted and save it in a column called freq\n",
        "movies_clean2"
      ],
      "execution_count": 34,
      "outputs": [
        {
          "output_type": "stream",
          "text": [
            "/usr/local/lib/python3.7/dist-packages/ipykernel_launcher.py:1: SettingWithCopyWarning: \n",
            "A value is trying to be set on a copy of a slice from a DataFrame.\n",
            "Try using .loc[row_indexer,col_indexer] = value instead\n",
            "\n",
            "See the caveats in the documentation: https://pandas.pydata.org/pandas-docs/stable/user_guide/indexing.html#returning-a-view-versus-a-copy\n",
            "  \"\"\"Entry point for launching an IPython kernel.\n"
          ],
          "name": "stderr"
        },
        {
          "output_type": "execute_result",
          "data": {
            "text/html": [
              "<div>\n",
              "<style scoped>\n",
              "    .dataframe tbody tr th:only-of-type {\n",
              "        vertical-align: middle;\n",
              "    }\n",
              "\n",
              "    .dataframe tbody tr th {\n",
              "        vertical-align: top;\n",
              "    }\n",
              "\n",
              "    .dataframe thead th {\n",
              "        text-align: right;\n",
              "    }\n",
              "</style>\n",
              "<table border=\"1\" class=\"dataframe\">\n",
              "  <thead>\n",
              "    <tr style=\"text-align: right;\">\n",
              "      <th></th>\n",
              "      <th>genres</th>\n",
              "      <th>profit</th>\n",
              "      <th>revenue</th>\n",
              "      <th>freq</th>\n",
              "    </tr>\n",
              "  </thead>\n",
              "  <tbody>\n",
              "    <tr>\n",
              "      <th>0</th>\n",
              "      <td>Action|Adventure|Science Fiction|Thriller</td>\n",
              "      <td>1363528810</td>\n",
              "      <td>1513528810</td>\n",
              "      <td>6</td>\n",
              "    </tr>\n",
              "    <tr>\n",
              "      <th>1</th>\n",
              "      <td>Action|Adventure|Science Fiction|Thriller</td>\n",
              "      <td>228436354</td>\n",
              "      <td>378436354</td>\n",
              "      <td>6</td>\n",
              "    </tr>\n",
              "    <tr>\n",
              "      <th>2</th>\n",
              "      <td>Adventure|Science Fiction|Thriller</td>\n",
              "      <td>185238201</td>\n",
              "      <td>295238201</td>\n",
              "      <td>1</td>\n",
              "    </tr>\n",
              "    <tr>\n",
              "      <th>3</th>\n",
              "      <td>Action|Adventure|Science Fiction|Fantasy</td>\n",
              "      <td>1868178225</td>\n",
              "      <td>2068178225</td>\n",
              "      <td>1</td>\n",
              "    </tr>\n",
              "    <tr>\n",
              "      <th>4</th>\n",
              "      <td>Action|Crime|Thriller</td>\n",
              "      <td>1316249360</td>\n",
              "      <td>1506249360</td>\n",
              "      <td>30</td>\n",
              "    </tr>\n",
              "    <tr>\n",
              "      <th>...</th>\n",
              "      <td>...</td>\n",
              "      <td>...</td>\n",
              "      <td>...</td>\n",
              "      <td>...</td>\n",
              "    </tr>\n",
              "    <tr>\n",
              "      <th>10822</th>\n",
              "      <td>Drama</td>\n",
              "      <td>26236689</td>\n",
              "      <td>33736689</td>\n",
              "      <td>245</td>\n",
              "    </tr>\n",
              "    <tr>\n",
              "      <th>10828</th>\n",
              "      <td>Mystery|Thriller</td>\n",
              "      <td>10000000</td>\n",
              "      <td>13000000</td>\n",
              "      <td>6</td>\n",
              "    </tr>\n",
              "    <tr>\n",
              "      <th>10829</th>\n",
              "      <td>Action|Western</td>\n",
              "      <td>1347000</td>\n",
              "      <td>6000000</td>\n",
              "      <td>2</td>\n",
              "    </tr>\n",
              "    <tr>\n",
              "      <th>10835</th>\n",
              "      <td>Action|Adventure|Drama|War|Romance</td>\n",
              "      <td>8000000</td>\n",
              "      <td>20000000</td>\n",
              "      <td>1</td>\n",
              "    </tr>\n",
              "    <tr>\n",
              "      <th>10848</th>\n",
              "      <td>Adventure|Science Fiction</td>\n",
              "      <td>6885000</td>\n",
              "      <td>12000000</td>\n",
              "      <td>4</td>\n",
              "    </tr>\n",
              "  </tbody>\n",
              "</table>\n",
              "<p>3844 rows × 4 columns</p>\n",
              "</div>"
            ],
            "text/plain": [
              "                                          genres      profit     revenue  freq\n",
              "0      Action|Adventure|Science Fiction|Thriller  1363528810  1513528810     6\n",
              "1      Action|Adventure|Science Fiction|Thriller   228436354   378436354     6\n",
              "2             Adventure|Science Fiction|Thriller   185238201   295238201     1\n",
              "3       Action|Adventure|Science Fiction|Fantasy  1868178225  2068178225     1\n",
              "4                          Action|Crime|Thriller  1316249360  1506249360    30\n",
              "...                                          ...         ...         ...   ...\n",
              "10822                                      Drama    26236689    33736689   245\n",
              "10828                           Mystery|Thriller    10000000    13000000     6\n",
              "10829                             Action|Western     1347000     6000000     2\n",
              "10835         Action|Adventure|Drama|War|Romance     8000000    20000000     1\n",
              "10848                  Adventure|Science Fiction     6885000    12000000     4\n",
              "\n",
              "[3844 rows x 4 columns]"
            ]
          },
          "metadata": {
            "tags": []
          },
          "execution_count": 34
        }
      ]
    },
    {
      "cell_type": "code",
      "metadata": {
        "colab": {
          "base_uri": "https://localhost:8080/"
        },
        "id": "0JDjIZPLnm9-",
        "outputId": "4916dd41-dc17-47d7-ffc7-8396cad5f408"
      },
      "source": [
        "# keep only genres repeted more than 3 times to ensure correct correlation \n",
        "print(movies_clean2.shape)\n",
        "movies_clean2 = movies_clean2[movies_clean2.freq > 3]\n",
        "print(movies_clean2.shape)"
      ],
      "execution_count": 35,
      "outputs": [
        {
          "output_type": "stream",
          "text": [
            "(3844, 4)\n",
            "(2667, 4)\n"
          ],
          "name": "stdout"
        }
      ]
    },
    {
      "cell_type": "code",
      "metadata": {
        "colab": {
          "base_uri": "https://localhost:8080/",
          "height": 462
        },
        "id": "7XLURH74pF3l",
        "outputId": "abb30bdb-6ea2-46e9-f1dd-6cbf6cb517a9"
      },
      "source": [
        "# get average profit for each genre\n",
        "avg_genre = movies_clean2.groupby('genres')['profit','revenue'].mean().reset_index()\n",
        "avg_genre = avg_genre.sort_values(\"revenue\" , ascending = False)\n",
        "avg_genre"
      ],
      "execution_count": 36,
      "outputs": [
        {
          "output_type": "stream",
          "text": [
            "/usr/local/lib/python3.7/dist-packages/ipykernel_launcher.py:2: FutureWarning: Indexing with multiple keys (implicitly converted to a tuple of keys) will be deprecated, use a list instead.\n",
            "  \n"
          ],
          "name": "stderr"
        },
        {
          "output_type": "execute_result",
          "data": {
            "text/html": [
              "<div>\n",
              "<style scoped>\n",
              "    .dataframe tbody tr th:only-of-type {\n",
              "        vertical-align: middle;\n",
              "    }\n",
              "\n",
              "    .dataframe tbody tr th {\n",
              "        vertical-align: top;\n",
              "    }\n",
              "\n",
              "    .dataframe thead th {\n",
              "        text-align: right;\n",
              "    }\n",
              "</style>\n",
              "<table border=\"1\" class=\"dataframe\">\n",
              "  <thead>\n",
              "    <tr style=\"text-align: right;\">\n",
              "      <th></th>\n",
              "      <th>genres</th>\n",
              "      <th>profit</th>\n",
              "      <th>revenue</th>\n",
              "    </tr>\n",
              "  </thead>\n",
              "  <tbody>\n",
              "    <tr>\n",
              "      <th>12</th>\n",
              "      <td>Action|Adventure|Fantasy|Science Fiction</td>\n",
              "      <td>5.382059e+08</td>\n",
              "      <td>7.040630e+08</td>\n",
              "    </tr>\n",
              "    <tr>\n",
              "      <th>58</th>\n",
              "      <td>Adventure|Fantasy|Drama|Romance</td>\n",
              "      <td>5.887339e+08</td>\n",
              "      <td>6.574839e+08</td>\n",
              "    </tr>\n",
              "    <tr>\n",
              "      <th>59</th>\n",
              "      <td>Adventure|Fantasy|Family</td>\n",
              "      <td>4.799516e+08</td>\n",
              "      <td>6.079516e+08</td>\n",
              "    </tr>\n",
              "    <tr>\n",
              "      <th>33</th>\n",
              "      <td>Action|Science Fiction|Adventure</td>\n",
              "      <td>3.966971e+08</td>\n",
              "      <td>5.441971e+08</td>\n",
              "    </tr>\n",
              "    <tr>\n",
              "      <th>42</th>\n",
              "      <td>Adventure|Action|Science Fiction</td>\n",
              "      <td>4.332927e+08</td>\n",
              "      <td>5.226277e+08</td>\n",
              "    </tr>\n",
              "    <tr>\n",
              "      <th>...</th>\n",
              "      <td>...</td>\n",
              "      <td>...</td>\n",
              "      <td>...</td>\n",
              "    </tr>\n",
              "    <tr>\n",
              "      <th>7</th>\n",
              "      <td>Action|Adventure|Crime|Drama|Thriller</td>\n",
              "      <td>-4.655313e+06</td>\n",
              "      <td>2.194469e+07</td>\n",
              "    </tr>\n",
              "    <tr>\n",
              "      <th>96</th>\n",
              "      <td>Documentary</td>\n",
              "      <td>1.644862e+07</td>\n",
              "      <td>2.010971e+07</td>\n",
              "    </tr>\n",
              "    <tr>\n",
              "      <th>145</th>\n",
              "      <td>Horror|Science Fiction</td>\n",
              "      <td>9.183683e+06</td>\n",
              "      <td>1.746702e+07</td>\n",
              "    </tr>\n",
              "    <tr>\n",
              "      <th>174</th>\n",
              "      <td>War|Drama</td>\n",
              "      <td>-3.761484e+06</td>\n",
              "      <td>1.173852e+07</td>\n",
              "    </tr>\n",
              "    <tr>\n",
              "      <th>72</th>\n",
              "      <td>Comedy|Crime|Thriller</td>\n",
              "      <td>-1.738768e+06</td>\n",
              "      <td>1.076123e+07</td>\n",
              "    </tr>\n",
              "  </tbody>\n",
              "</table>\n",
              "<p>176 rows × 3 columns</p>\n",
              "</div>"
            ],
            "text/plain": [
              "                                       genres        profit       revenue\n",
              "12   Action|Adventure|Fantasy|Science Fiction  5.382059e+08  7.040630e+08\n",
              "58            Adventure|Fantasy|Drama|Romance  5.887339e+08  6.574839e+08\n",
              "59                   Adventure|Fantasy|Family  4.799516e+08  6.079516e+08\n",
              "33           Action|Science Fiction|Adventure  3.966971e+08  5.441971e+08\n",
              "42           Adventure|Action|Science Fiction  4.332927e+08  5.226277e+08\n",
              "..                                        ...           ...           ...\n",
              "7       Action|Adventure|Crime|Drama|Thriller -4.655313e+06  2.194469e+07\n",
              "96                                Documentary  1.644862e+07  2.010971e+07\n",
              "145                    Horror|Science Fiction  9.183683e+06  1.746702e+07\n",
              "174                                 War|Drama -3.761484e+06  1.173852e+07\n",
              "72                      Comedy|Crime|Thriller -1.738768e+06  1.076123e+07\n",
              "\n",
              "[176 rows x 3 columns]"
            ]
          },
          "metadata": {
            "tags": []
          },
          "execution_count": 36
        }
      ]
    },
    {
      "cell_type": "code",
      "metadata": {
        "colab": {
          "base_uri": "https://localhost:8080/",
          "height": 347
        },
        "id": "mlp1yQ4_0GQn",
        "outputId": "e3d1f15d-becb-4f0a-86d6-9fffc9ba4a86"
      },
      "source": [
        "avg_genre[:10] # top 10 genres average revnue"
      ],
      "execution_count": 37,
      "outputs": [
        {
          "output_type": "execute_result",
          "data": {
            "text/html": [
              "<div>\n",
              "<style scoped>\n",
              "    .dataframe tbody tr th:only-of-type {\n",
              "        vertical-align: middle;\n",
              "    }\n",
              "\n",
              "    .dataframe tbody tr th {\n",
              "        vertical-align: top;\n",
              "    }\n",
              "\n",
              "    .dataframe thead th {\n",
              "        text-align: right;\n",
              "    }\n",
              "</style>\n",
              "<table border=\"1\" class=\"dataframe\">\n",
              "  <thead>\n",
              "    <tr style=\"text-align: right;\">\n",
              "      <th></th>\n",
              "      <th>genres</th>\n",
              "      <th>profit</th>\n",
              "      <th>revenue</th>\n",
              "    </tr>\n",
              "  </thead>\n",
              "  <tbody>\n",
              "    <tr>\n",
              "      <th>12</th>\n",
              "      <td>Action|Adventure|Fantasy|Science Fiction</td>\n",
              "      <td>5.382059e+08</td>\n",
              "      <td>7.040630e+08</td>\n",
              "    </tr>\n",
              "    <tr>\n",
              "      <th>58</th>\n",
              "      <td>Adventure|Fantasy|Drama|Romance</td>\n",
              "      <td>5.887339e+08</td>\n",
              "      <td>6.574839e+08</td>\n",
              "    </tr>\n",
              "    <tr>\n",
              "      <th>59</th>\n",
              "      <td>Adventure|Fantasy|Family</td>\n",
              "      <td>4.799516e+08</td>\n",
              "      <td>6.079516e+08</td>\n",
              "    </tr>\n",
              "    <tr>\n",
              "      <th>33</th>\n",
              "      <td>Action|Science Fiction|Adventure</td>\n",
              "      <td>3.966971e+08</td>\n",
              "      <td>5.441971e+08</td>\n",
              "    </tr>\n",
              "    <tr>\n",
              "      <th>42</th>\n",
              "      <td>Adventure|Action|Science Fiction</td>\n",
              "      <td>4.332927e+08</td>\n",
              "      <td>5.226277e+08</td>\n",
              "    </tr>\n",
              "    <tr>\n",
              "      <th>65</th>\n",
              "      <td>Animation|Comedy|Family|Adventure</td>\n",
              "      <td>4.322405e+08</td>\n",
              "      <td>5.142405e+08</td>\n",
              "    </tr>\n",
              "    <tr>\n",
              "      <th>56</th>\n",
              "      <td>Adventure|Fantasy|Action</td>\n",
              "      <td>3.880389e+08</td>\n",
              "      <td>5.064989e+08</td>\n",
              "    </tr>\n",
              "    <tr>\n",
              "      <th>11</th>\n",
              "      <td>Action|Adventure|Fantasy</td>\n",
              "      <td>3.308890e+08</td>\n",
              "      <td>5.000556e+08</td>\n",
              "    </tr>\n",
              "    <tr>\n",
              "      <th>47</th>\n",
              "      <td>Adventure|Animation|Comedy|Family|Fantasy</td>\n",
              "      <td>3.741361e+08</td>\n",
              "      <td>4.981361e+08</td>\n",
              "    </tr>\n",
              "    <tr>\n",
              "      <th>120</th>\n",
              "      <td>Drama|Romance|Thriller</td>\n",
              "      <td>4.289633e+08</td>\n",
              "      <td>4.978383e+08</td>\n",
              "    </tr>\n",
              "  </tbody>\n",
              "</table>\n",
              "</div>"
            ],
            "text/plain": [
              "                                        genres        profit       revenue\n",
              "12    Action|Adventure|Fantasy|Science Fiction  5.382059e+08  7.040630e+08\n",
              "58             Adventure|Fantasy|Drama|Romance  5.887339e+08  6.574839e+08\n",
              "59                    Adventure|Fantasy|Family  4.799516e+08  6.079516e+08\n",
              "33            Action|Science Fiction|Adventure  3.966971e+08  5.441971e+08\n",
              "42            Adventure|Action|Science Fiction  4.332927e+08  5.226277e+08\n",
              "65           Animation|Comedy|Family|Adventure  4.322405e+08  5.142405e+08\n",
              "56                    Adventure|Fantasy|Action  3.880389e+08  5.064989e+08\n",
              "11                    Action|Adventure|Fantasy  3.308890e+08  5.000556e+08\n",
              "47   Adventure|Animation|Comedy|Family|Fantasy  3.741361e+08  4.981361e+08\n",
              "120                     Drama|Romance|Thriller  4.289633e+08  4.978383e+08"
            ]
          },
          "metadata": {
            "tags": []
          },
          "execution_count": 37
        }
      ]
    },
    {
      "cell_type": "code",
      "metadata": {
        "id": "yTyUKg4y2tpB"
      },
      "source": [
        "pd.options.display.float_format = '{:.2f}'.format #converting scientific numbers to regular floats"
      ],
      "execution_count": 38,
      "outputs": []
    },
    {
      "cell_type": "code",
      "metadata": {
        "colab": {
          "base_uri": "https://localhost:8080/"
        },
        "id": "vwFo5MQbyWDt",
        "outputId": "6045ab7b-1072-4d1b-809c-983da1e3f8ee"
      },
      "source": [
        "avg_genre.revenue.describe().round(2)"
      ],
      "execution_count": 39,
      "outputs": [
        {
          "output_type": "execute_result",
          "data": {
            "text/plain": [
              "count         176.00\n",
              "mean    136461933.95\n",
              "std     140735642.15\n",
              "min      10761231.60\n",
              "25%      52460948.03\n",
              "50%      84901779.40\n",
              "75%     140474293.96\n",
              "max     704063018.71\n",
              "Name: revenue, dtype: float64"
            ]
          },
          "metadata": {
            "tags": []
          },
          "execution_count": 39
        }
      ]
    },
    {
      "cell_type": "code",
      "metadata": {
        "colab": {
          "base_uri": "https://localhost:8080/"
        },
        "id": "cJR1xgJR3Xdu",
        "outputId": "7585e49c-fee2-420d-d9ac-c704ed87bcc7"
      },
      "source": [
        "avg_genre.profit.describe().round(2)"
      ],
      "execution_count": null,
      "outputs": [
        {
          "output_type": "execute_result",
          "data": {
            "text/plain": [
              "count         176.00\n",
              "mean     91890319.43\n",
              "std     113649899.27\n",
              "min     -10978536.00\n",
              "25%      26629602.09\n",
              "50%      52962692.28\n",
              "75%      90159151.59\n",
              "max     588733858.50\n",
              "Name: profit, dtype: float64"
            ]
          },
          "metadata": {
            "tags": []
          },
          "execution_count": 164
        }
      ]
    },
    {
      "cell_type": "markdown",
      "metadata": {
        "id": "LpUKBbb53Rao"
      },
      "source": [
        "There are big variation in the average revenue and profit for each genre is big which indicate that genres do not get same revenue nor profit"
      ]
    },
    {
      "cell_type": "code",
      "metadata": {
        "colab": {
          "base_uri": "https://localhost:8080/"
        },
        "id": "EPAq2gyU4JUw",
        "outputId": "9c9a11f4-899c-4a41-8f85-fd2091725263"
      },
      "source": [
        "# top 10 and worst 10 genres by profit\n",
        "avg_genre = avg_genre.sort_values(\"profit\" , ascending = False)\n",
        "print(\"top 10 genres by profit: \\n\", avg_genre[:10])\n",
        "print(\"\\n worst 10 genres by profit: \\n\", avg_genre[-10:])"
      ],
      "execution_count": 41,
      "outputs": [
        {
          "output_type": "stream",
          "text": [
            "top 10 genres by profit: \n",
            "                                         genres       profit      revenue\n",
            "58             Adventure|Fantasy|Drama|Romance 588733858.50 657483858.50\n",
            "12    Action|Adventure|Fantasy|Science Fiction 538205875.86 704063018.71\n",
            "59                    Adventure|Fantasy|Family 479951648.40 607951648.40\n",
            "42            Adventure|Action|Science Fiction 433292698.80 522627698.80\n",
            "65           Animation|Comedy|Family|Adventure 432240488.50 514240488.50\n",
            "120                     Drama|Romance|Thriller 428963339.75 497838339.75\n",
            "33            Action|Science Fiction|Adventure 396697054.00 544197054.00\n",
            "56                    Adventure|Fantasy|Action 388038903.73 506498903.73\n",
            "130          Family|Animation|Adventure|Comedy 377254258.00 481254258.00\n",
            "47   Adventure|Animation|Comedy|Family|Fantasy 374136147.60 498136147.60\n",
            "\n",
            " worst 10 genres by profit: \n",
            "                                     genres       profit     revenue\n",
            "27                            Action|Drama   2125850.17 28709183.50\n",
            "99                   Drama|Action|Thriller   -270577.80 26329422.20\n",
            "6         Action|Adventure|Comedy|Thriller   -824644.29 38746784.29\n",
            "72                   Comedy|Crime|Thriller  -1738768.40 10761231.60\n",
            "174                              War|Drama  -3761483.75 11738516.25\n",
            "19                     Action|Comedy|Drama  -3796880.75 34453119.25\n",
            "7    Action|Adventure|Crime|Drama|Thriller  -4655313.40 21944686.60\n",
            "167                 Thriller|Crime|Mystery  -5117177.50 43007822.50\n",
            "158                        Science Fiction  -7414964.08 28710035.92\n",
            "136                          Fantasy|Drama -10978536.00 33521464.00\n"
          ],
          "name": "stdout"
        }
      ]
    },
    {
      "cell_type": "markdown",
      "metadata": {
        "id": "Y6nQ63Cd4jfj"
      },
      "source": [
        "We can see that profit does not correlate well with revenue so sometimes the movie make bad revenue compared with the budget of the movie"
      ]
    },
    {
      "cell_type": "markdown",
      "metadata": {
        "id": "BylM-PC0ZmKv"
      },
      "source": [
        "<a id='conclusions'></a>\n",
        "## Conclusions\n",
        "\n",
        "#### 1) Summer season is the best time to realse your movie at specially (5,6,7) monthes and take care that the revenue decrese at the start of the year were it's too cold to go out and at the 9th month with the start of the school year\n",
        "\n",
        "\n",
        "#### 2) Directos have an average rate for their movies that theey stick with it with small variations and you can trust that the next movie for every directory with be very neer to his average rate and this was shown by the small standard deviation of the average rates\n",
        "\n",
        "#### 3) Genre of the movie has a relation with the revenue and profit of the movie and i showed the best movie genres and worst in terms of the revenue and profit to know which genre should you make for your next movie and to take care of high budget that may make you loose money although good revenue\n",
        "\n",
        "#### Limitations of analysis:\n",
        "1) I wanted to compare the movies revenue to see the trend over years but the problem was the value of money is not the same since say 30 years and now so the dollar now may equal a half dollar 10 years ago so if there is a column to represent the value of the dollar in this year it would be beneficial \n",
        "2) some revenues and budget was very low like 1 dollar or 1000 dollars and so on which was not logical and i excluded any budget less than 10 dollars and reveue less than 1 dollar but the threshold should be more than this, i only kept this threshhold to keep some rows for analysis as the number of rows was small\n",
        "\n",
        "\n"
      ]
    },
    {
      "cell_type": "markdown",
      "metadata": {
        "id": "hoohr-71Vt0z"
      },
      "source": [
        "Resources:\n",
        "https://seaborn.pydata.org/generated/seaborn.barplot.html\n",
        "\n",
        "https://stackoverflow.com/questions/25715333/in-python-plots-what-does-1e8-mean-in-reference-to-the-y-axis\n",
        "\n",
        "https://stackoverflow.com/questions/20461165/how-to-convert-index-of-a-pandas-dataframe-into-a-column\n",
        "\n",
        "https://stackoverflow.com/questions/25915225/pandas-dataframe-groupby-to-calculate-population-standard-deviation\n",
        "\n",
        "https://stackoverflow.com/questions/57814242/count-freq-of-one-column-values-in-pandas-dataframe-and-tag-each-row-with-its-fr\n",
        "\n",
        "https://stackoverflow.com/questions/21137150/format-suppress-scientific-notation-from-python-pandas-aggregation-results"
      ]
    }
  ]
}