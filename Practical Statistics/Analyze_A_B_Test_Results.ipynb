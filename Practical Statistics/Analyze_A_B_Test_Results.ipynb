{
  "nbformat": 4,
  "nbformat_minor": 0,
  "metadata": {
    "colab": {
      "name": "Analyze A/B Test Results.ipynb",
      "provenance": [],
      "authorship_tag": "ABX9TyOUDNtpC8J/yan/j4Q6AdX7",
      "include_colab_link": true
    },
    "kernelspec": {
      "name": "python3",
      "display_name": "Python 3"
    },
    "language_info": {
      "name": "python"
    }
  },
  "cells": [
    {
      "cell_type": "markdown",
      "metadata": {
        "id": "view-in-github",
        "colab_type": "text"
      },
      "source": [
        "<a href=\"https://colab.research.google.com/github/mohiiieldin/Advance-Data-Analysis-Nano-Degree-by-Udacity-/blob/main/Practical%20Statistics/Analyze_A_B_Test_Results.ipynb\" target=\"_parent\"><img src=\"https://colab.research.google.com/assets/colab-badge.svg\" alt=\"Open In Colab\"/></a>"
      ]
    },
    {
      "cell_type": "markdown",
      "metadata": {
        "id": "b3-VfEgmHs-v"
      },
      "source": [
        "# On Progress"
      ]
    },
    {
      "cell_type": "code",
      "metadata": {
        "id": "NJBq8EyeHqJa"
      },
      "source": [
        ""
      ],
      "execution_count": null,
      "outputs": []
    }
  ]
}