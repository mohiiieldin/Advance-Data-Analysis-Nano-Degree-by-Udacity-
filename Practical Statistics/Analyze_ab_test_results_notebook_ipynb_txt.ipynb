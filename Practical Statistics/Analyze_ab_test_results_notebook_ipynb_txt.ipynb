{
  "nbformat": 4,
  "nbformat_minor": 0,
  "metadata": {
    "kernelspec": {
      "display_name": "Python 3",
      "language": "python",
      "name": "python3"
    },
    "language_info": {
      "codemirror_mode": {
        "name": "ipython",
        "version": 3
      },
      "file_extension": ".py",
      "mimetype": "text/x-python",
      "name": "python",
      "nbconvert_exporter": "python",
      "pygments_lexer": "ipython3",
      "version": "3.6.1"
    },
    "colab": {
      "name": "Analyze_ab_test_results_notebook.ipynb.txt",
      "provenance": [],
      "collapsed_sections": [],
      "include_colab_link": true
    }
  },
  "cells": [
    {
      "cell_type": "markdown",
      "metadata": {
        "id": "view-in-github",
        "colab_type": "text"
      },
      "source": [
        "<a href=\"https://colab.research.google.com/github/mohiiieldin/Advance-Data-Analysis-Nano-Degree-by-Udacity-/blob/main/Practical%20Statistics/Analyze_ab_test_results_notebook_ipynb_txt.ipynb\" target=\"_parent\"><img src=\"https://colab.research.google.com/assets/colab-badge.svg\" alt=\"Open In Colab\"/></a>"
      ]
    },
    {
      "cell_type": "markdown",
      "metadata": {
        "id": "-kN50kRZgLsi"
      },
      "source": [
        "#On Progress!"
      ]
    },
    {
      "cell_type": "markdown",
      "metadata": {
        "id": "BW8vomNNf-0g"
      },
      "source": [
        "## Analyze A/B Test Results\n",
        "\n",
        "\n",
        "## Table of Contents\n",
        "- [Introduction](#intro)\n",
        "- [Part I - Probability](#probability)\n",
        "- [Part II - A/B Test](#ab_test)\n",
        "- [Part III - Regression](#regression)\n",
        "\n",
        "\n",
        "<a id='intro'></a>\n",
        "### Introduction\n",
        "\n",
        "A/B tests are very commonly performed by data analysts and data scientists.\n",
        "\n",
        "For this project, I will be working to understand the results of an A/B test run by an e-commerce website.  \n",
        "\n",
        "\n",
        "<a id='probability'></a>\n",
        "#### Part I - Probability\n",
        "\n",
        "To get started, let's import our libraries."
      ]
    },
    {
      "cell_type": "code",
      "metadata": {
        "collapsed": true,
        "id": "EkbvA0lrf-0r"
      },
      "source": [
        "import pandas as pd\n",
        "import numpy as np\n",
        "import random\n",
        "import matplotlib.pyplot as plt\n",
        "%matplotlib inline\n",
        "\n",
        "random.seed(42)"
      ],
      "execution_count": 1,
      "outputs": []
    },
    {
      "cell_type": "code",
      "metadata": {
        "colab": {
          "base_uri": "https://localhost:8080/",
          "height": 0
        },
        "id": "AFjx3KcWhpaR",
        "outputId": "32da24b4-2d9b-4d5b-e167-c4b215ea135b"
      },
      "source": [
        "from google.colab import drive\n",
        "drive.mount('/content/drive')"
      ],
      "execution_count": 4,
      "outputs": [
        {
          "output_type": "stream",
          "text": [
            "Go to this URL in a browser: https://accounts.google.com/o/oauth2/auth?client_id=947318989803-6bn6qk8qdgf4n4g3pfee6491hc0brc4i.apps.googleusercontent.com&redirect_uri=urn%3aietf%3awg%3aoauth%3a2.0%3aoob&scope=email%20https%3a%2f%2fwww.googleapis.com%2fauth%2fdocs.test%20https%3a%2f%2fwww.googleapis.com%2fauth%2fdrive%20https%3a%2f%2fwww.googleapis.com%2fauth%2fdrive.photos.readonly%20https%3a%2f%2fwww.googleapis.com%2fauth%2fpeopleapi.readonly%20https%3a%2f%2fwww.googleapis.com%2fauth%2fdrive.activity.readonly%20https%3a%2f%2fwww.googleapis.com%2fauth%2fexperimentsandconfigs%20https%3a%2f%2fwww.googleapis.com%2fauth%2fphotos.native&response_type=code\n",
            "\n",
            "Enter your authorization code:\n",
            "4/1AY0e-g7D_B2AWXpFidwJjy3KCbwX-Kr5ApJBY9YOVz7upizzaBMvPA4B5ig\n",
            "Mounted at /content/drive\n"
          ],
          "name": "stdout"
        }
      ]
    },
    {
      "cell_type": "markdown",
      "metadata": {
        "id": "nKf0URXqf-0t"
      },
      "source": [
        "`1.` Now, read in the `ab_data.csv` data. Store it in `df`.  **Use your dataframe to answer the questions in Quiz 1 of the classroom.**\n",
        "\n",
        "a. Read in the dataset and take a look at the top few rows here:"
      ]
    },
    {
      "cell_type": "code",
      "metadata": {
        "collapsed": true,
        "colab": {
          "base_uri": "https://localhost:8080/",
          "height": 198
        },
        "id": "99Uy0XYBf-0t",
        "outputId": "d8376feb-194c-4d1b-8526-a5200ffef3dd"
      },
      "source": [
        "ab_data = pd.read_csv(\"/content/drive/MyDrive/Udacity Nano-degree projects data/ab_data.csv\")\n",
        "ab_data.head()"
      ],
      "execution_count": 5,
      "outputs": [
        {
          "output_type": "execute_result",
          "data": {
            "text/html": [
              "<div>\n",
              "<style scoped>\n",
              "    .dataframe tbody tr th:only-of-type {\n",
              "        vertical-align: middle;\n",
              "    }\n",
              "\n",
              "    .dataframe tbody tr th {\n",
              "        vertical-align: top;\n",
              "    }\n",
              "\n",
              "    .dataframe thead th {\n",
              "        text-align: right;\n",
              "    }\n",
              "</style>\n",
              "<table border=\"1\" class=\"dataframe\">\n",
              "  <thead>\n",
              "    <tr style=\"text-align: right;\">\n",
              "      <th></th>\n",
              "      <th>user_id</th>\n",
              "      <th>timestamp</th>\n",
              "      <th>group</th>\n",
              "      <th>landing_page</th>\n",
              "      <th>converted</th>\n",
              "    </tr>\n",
              "  </thead>\n",
              "  <tbody>\n",
              "    <tr>\n",
              "      <th>0</th>\n",
              "      <td>851104</td>\n",
              "      <td>2017-01-21 22:11:48.556739</td>\n",
              "      <td>control</td>\n",
              "      <td>old_page</td>\n",
              "      <td>0</td>\n",
              "    </tr>\n",
              "    <tr>\n",
              "      <th>1</th>\n",
              "      <td>804228</td>\n",
              "      <td>2017-01-12 08:01:45.159739</td>\n",
              "      <td>control</td>\n",
              "      <td>old_page</td>\n",
              "      <td>0</td>\n",
              "    </tr>\n",
              "    <tr>\n",
              "      <th>2</th>\n",
              "      <td>661590</td>\n",
              "      <td>2017-01-11 16:55:06.154213</td>\n",
              "      <td>treatment</td>\n",
              "      <td>new_page</td>\n",
              "      <td>0</td>\n",
              "    </tr>\n",
              "    <tr>\n",
              "      <th>3</th>\n",
              "      <td>853541</td>\n",
              "      <td>2017-01-08 18:28:03.143765</td>\n",
              "      <td>treatment</td>\n",
              "      <td>new_page</td>\n",
              "      <td>0</td>\n",
              "    </tr>\n",
              "    <tr>\n",
              "      <th>4</th>\n",
              "      <td>864975</td>\n",
              "      <td>2017-01-21 01:52:26.210827</td>\n",
              "      <td>control</td>\n",
              "      <td>old_page</td>\n",
              "      <td>1</td>\n",
              "    </tr>\n",
              "  </tbody>\n",
              "</table>\n",
              "</div>"
            ],
            "text/plain": [
              "   user_id                   timestamp      group landing_page  converted\n",
              "0   851104  2017-01-21 22:11:48.556739    control     old_page          0\n",
              "1   804228  2017-01-12 08:01:45.159739    control     old_page          0\n",
              "2   661590  2017-01-11 16:55:06.154213  treatment     new_page          0\n",
              "3   853541  2017-01-08 18:28:03.143765  treatment     new_page          0\n",
              "4   864975  2017-01-21 01:52:26.210827    control     old_page          1"
            ]
          },
          "metadata": {
            "tags": []
          },
          "execution_count": 5
        }
      ]
    },
    {
      "cell_type": "markdown",
      "metadata": {
        "id": "gGBZazbNf-0u"
      },
      "source": [
        "b. Use the below cell to find the number of rows in the dataset."
      ]
    },
    {
      "cell_type": "code",
      "metadata": {
        "id": "Q5vVgWqPf-0v",
        "colab": {
          "base_uri": "https://localhost:8080/"
        },
        "outputId": "6c3146b2-5dc3-4b4a-decf-34eece679da0"
      },
      "source": [
        "ab_data.shape[0]"
      ],
      "execution_count": null,
      "outputs": [
        {
          "output_type": "execute_result",
          "data": {
            "text/plain": [
              "294478"
            ]
          },
          "metadata": {
            "tags": []
          },
          "execution_count": 4
        }
      ]
    },
    {
      "cell_type": "markdown",
      "metadata": {
        "id": "IBP437Jhf-0v"
      },
      "source": [
        "c. The number of unique users in the dataset."
      ]
    },
    {
      "cell_type": "code",
      "metadata": {
        "id": "EJlZ4bxrf-0w",
        "colab": {
          "base_uri": "https://localhost:8080/"
        },
        "outputId": "08069a61-8395-4a7c-f19f-73edcc61e063"
      },
      "source": [
        "ab_data.user_id.nunique()"
      ],
      "execution_count": null,
      "outputs": [
        {
          "output_type": "execute_result",
          "data": {
            "text/plain": [
              "290584"
            ]
          },
          "metadata": {
            "tags": []
          },
          "execution_count": 7
        }
      ]
    },
    {
      "cell_type": "markdown",
      "metadata": {
        "collapsed": true,
        "id": "HuXB4hELf-0w"
      },
      "source": [
        "d. The proportion of users converted."
      ]
    },
    {
      "cell_type": "code",
      "metadata": {
        "id": "618WGONmf-0x",
        "colab": {
          "base_uri": "https://localhost:8080/"
        },
        "outputId": "9d40185a-65be-4a55-8aa6-e3b563ebd759"
      },
      "source": [
        "print(round(ab_data.converted.mean() * 100 , 2) , \"%\")"
      ],
      "execution_count": null,
      "outputs": [
        {
          "output_type": "stream",
          "text": [
            "11.97 %\n"
          ],
          "name": "stdout"
        }
      ]
    },
    {
      "cell_type": "markdown",
      "metadata": {
        "collapsed": true,
        "id": "pXGIEMHHf-0x"
      },
      "source": [
        "e. The number of times the `new_page` and `treatment` don't line up."
      ]
    },
    {
      "cell_type": "code",
      "metadata": {
        "colab": {
          "base_uri": "https://localhost:8080/"
        },
        "id": "YRIbnac39zFX",
        "outputId": "9b7f80d8-f91c-48ae-9b36-dda02ab9438c"
      },
      "source": [
        "ab_data[(ab_data.landing_page == \"old_page\") & (ab_data.group == \"treatment\")].shape[0] + ab_data[(ab_data.landing_page == \"new_page\") & (ab_data.group == \"control\")].shape[0]\n"
      ],
      "execution_count": null,
      "outputs": [
        {
          "output_type": "execute_result",
          "data": {
            "text/plain": [
              "3893"
            ]
          },
          "metadata": {
            "tags": []
          },
          "execution_count": 32
        }
      ]
    },
    {
      "cell_type": "markdown",
      "metadata": {
        "id": "mpWLtdpaf-0y"
      },
      "source": [
        "f. Do any of the rows have missing values?"
      ]
    },
    {
      "cell_type": "code",
      "metadata": {
        "id": "H27fRJfMf-0y",
        "colab": {
          "base_uri": "https://localhost:8080/"
        },
        "outputId": "fb2b1ce2-9882-4bb0-da1c-32207c3db46d"
      },
      "source": [
        "ab_data.isnull().any(axis = 1).sum()"
      ],
      "execution_count": null,
      "outputs": [
        {
          "output_type": "execute_result",
          "data": {
            "text/plain": [
              "0"
            ]
          },
          "metadata": {
            "tags": []
          },
          "execution_count": 24
        }
      ]
    },
    {
      "cell_type": "markdown",
      "metadata": {
        "id": "sZrbe3CF88pb"
      },
      "source": [
        "No missing data"
      ]
    },
    {
      "cell_type": "markdown",
      "metadata": {
        "id": "lgC7G9Laf-0z"
      },
      "source": [
        "`2.` For the rows where **treatment** is not aligned with **new_page** or **control** is not aligned with **old_page**, we cannot be sure if this row truly received the new or old page.  Use **Quiz 2** in the classroom to provide how we should handle these rows.  \n",
        "\n",
        "a. Now use the answer to the quiz to create a new dataset that meets the specifications from the quiz.  Store your new dataframe in **df2**."
      ]
    },
    {
      "cell_type": "code",
      "metadata": {
        "collapsed": true,
        "id": "sJ1G4rAvf-0z"
      },
      "source": [
        "df2 = ab_data.drop(ab_data[(ab_data.landing_page == \"old_page\") & (ab_data.group == \"treatment\")].index)\n",
        "df2 = df2.drop( df2[(df2.landing_page == \"new_page\") & (df2.group == \"control\")].index)"
      ],
      "execution_count": 6,
      "outputs": []
    },
    {
      "cell_type": "code",
      "metadata": {
        "id": "2PWRgB-Bf-00",
        "colab": {
          "base_uri": "https://localhost:8080/"
        },
        "outputId": "c1b4233a-d3f7-4991-95cc-778e394239cc"
      },
      "source": [
        "# Double Check all of the correct rows were removed - this should be 0\n",
        "df2[((df2['group'] == 'treatment') == (df2['landing_page'] == 'new_page')) == False].shape[0]"
      ],
      "execution_count": null,
      "outputs": [
        {
          "output_type": "execute_result",
          "data": {
            "text/plain": [
              "0"
            ]
          },
          "metadata": {
            "tags": []
          },
          "execution_count": 9
        }
      ]
    },
    {
      "cell_type": "markdown",
      "metadata": {
        "id": "lKZK7eR7f-00"
      },
      "source": [
        "`3.` Use **df2** and the cells below to answer questions for **Quiz3** in the classroom."
      ]
    },
    {
      "cell_type": "markdown",
      "metadata": {
        "id": "WTSQSKlUf-01"
      },
      "source": [
        "a. How many unique **user_id**s are in **df2**?"
      ]
    },
    {
      "cell_type": "code",
      "metadata": {
        "id": "cg5N_K6Bf-01",
        "colab": {
          "base_uri": "https://localhost:8080/"
        },
        "outputId": "a9aa3237-3c8a-45ff-82ef-19c6499d236e"
      },
      "source": [
        "df2.user_id.nunique()"
      ],
      "execution_count": null,
      "outputs": [
        {
          "output_type": "execute_result",
          "data": {
            "text/plain": [
              "290584"
            ]
          },
          "metadata": {
            "tags": []
          },
          "execution_count": 10
        }
      ]
    },
    {
      "cell_type": "markdown",
      "metadata": {
        "collapsed": true,
        "id": "TGbyqgFqf-01"
      },
      "source": [
        "b. There is one **user_id** repeated in **df2**.  What is it?"
      ]
    },
    {
      "cell_type": "code",
      "metadata": {
        "id": "c-Zv4MNuf-02",
        "colab": {
          "base_uri": "https://localhost:8080/"
        },
        "outputId": "17d6e95a-79e5-4d95-b2e1-de0fa1882cf0"
      },
      "source": [
        "df2[df2.user_id.duplicated()].user_id"
      ],
      "execution_count": null,
      "outputs": [
        {
          "output_type": "execute_result",
          "data": {
            "text/plain": [
              "2893    773192\n",
              "Name: user_id, dtype: int64"
            ]
          },
          "metadata": {
            "tags": []
          },
          "execution_count": 17
        }
      ]
    },
    {
      "cell_type": "markdown",
      "metadata": {
        "id": "MZqdqTFOf-02"
      },
      "source": [
        "c. What is the row information for the repeat **user_id**? "
      ]
    },
    {
      "cell_type": "code",
      "metadata": {
        "id": "J2UKhYbwf-02",
        "colab": {
          "base_uri": "https://localhost:8080/",
          "height": 108
        },
        "outputId": "00228a85-ff02-4b95-9e44-3d0df798458d"
      },
      "source": [
        "df2[df2.user_id == 773192]"
      ],
      "execution_count": null,
      "outputs": [
        {
          "output_type": "execute_result",
          "data": {
            "text/html": [
              "<div>\n",
              "<style scoped>\n",
              "    .dataframe tbody tr th:only-of-type {\n",
              "        vertical-align: middle;\n",
              "    }\n",
              "\n",
              "    .dataframe tbody tr th {\n",
              "        vertical-align: top;\n",
              "    }\n",
              "\n",
              "    .dataframe thead th {\n",
              "        text-align: right;\n",
              "    }\n",
              "</style>\n",
              "<table border=\"1\" class=\"dataframe\">\n",
              "  <thead>\n",
              "    <tr style=\"text-align: right;\">\n",
              "      <th></th>\n",
              "      <th>user_id</th>\n",
              "      <th>timestamp</th>\n",
              "      <th>group</th>\n",
              "      <th>landing_page</th>\n",
              "      <th>converted</th>\n",
              "    </tr>\n",
              "  </thead>\n",
              "  <tbody>\n",
              "    <tr>\n",
              "      <th>1899</th>\n",
              "      <td>773192</td>\n",
              "      <td>2017-01-09 05:37:58.781806</td>\n",
              "      <td>treatment</td>\n",
              "      <td>new_page</td>\n",
              "      <td>0</td>\n",
              "    </tr>\n",
              "    <tr>\n",
              "      <th>2893</th>\n",
              "      <td>773192</td>\n",
              "      <td>2017-01-14 02:55:59.590927</td>\n",
              "      <td>treatment</td>\n",
              "      <td>new_page</td>\n",
              "      <td>0</td>\n",
              "    </tr>\n",
              "  </tbody>\n",
              "</table>\n",
              "</div>"
            ],
            "text/plain": [
              "      user_id                   timestamp      group landing_page  converted\n",
              "1899   773192  2017-01-09 05:37:58.781806  treatment     new_page          0\n",
              "2893   773192  2017-01-14 02:55:59.590927  treatment     new_page          0"
            ]
          },
          "metadata": {
            "tags": []
          },
          "execution_count": 20
        }
      ]
    },
    {
      "cell_type": "markdown",
      "metadata": {
        "id": "uaxKIVNDf-03"
      },
      "source": [
        "d. Remove **one** of the rows with a duplicate **user_id**, but keep your dataframe as **df2**."
      ]
    },
    {
      "cell_type": "code",
      "metadata": {
        "collapsed": true,
        "id": "B_fjwfPLf-03",
        "colab": {
          "base_uri": "https://localhost:8080/",
          "height": 0
        },
        "outputId": "ccdabbfb-1c64-40f2-c27d-3fbcb8fca325"
      },
      "source": [
        "print(df2.shape[0])\n",
        "df2 = df2.drop(2893)\n",
        "print(df2.shape[0])"
      ],
      "execution_count": 7,
      "outputs": [
        {
          "output_type": "stream",
          "text": [
            "290585\n",
            "290584\n"
          ],
          "name": "stdout"
        }
      ]
    },
    {
      "cell_type": "markdown",
      "metadata": {
        "id": "bMIBpxy8f-03"
      },
      "source": [
        "`4.` Use **df2** in the below cells to answer the quiz questions related to **Quiz 4** in the classroom.\n",
        "\n",
        "a. What is the probability of an individual converting regardless of the page they receive?"
      ]
    },
    {
      "cell_type": "code",
      "metadata": {
        "id": "L6woiOgWf-04",
        "colab": {
          "base_uri": "https://localhost:8080/"
        },
        "outputId": "d79aa038-db28-45f5-8a21-094573b44072"
      },
      "source": [
        "print( round(df2.converted.mean() * 100 , 2) , \"%\")"
      ],
      "execution_count": null,
      "outputs": [
        {
          "output_type": "stream",
          "text": [
            "11.96 %\n"
          ],
          "name": "stdout"
        }
      ]
    },
    {
      "cell_type": "markdown",
      "metadata": {
        "id": "SqMPDbmJf-04"
      },
      "source": [
        "b. Given that an individual was in the `control` group, what is the probability they converted?"
      ]
    },
    {
      "cell_type": "code",
      "metadata": {
        "id": "nRlgyuWuf-05",
        "colab": {
          "base_uri": "https://localhost:8080/"
        },
        "outputId": "ad68bb1c-6f17-4cdd-9bf4-2fd4f85fd13d"
      },
      "source": [
        "print( round(df2[df2.group == \"control\"].converted.mean() * 100 , 2) , \"%\")"
      ],
      "execution_count": null,
      "outputs": [
        {
          "output_type": "stream",
          "text": [
            "12.04 %\n"
          ],
          "name": "stdout"
        }
      ]
    },
    {
      "cell_type": "markdown",
      "metadata": {
        "id": "iMEP2JZff-05"
      },
      "source": [
        "c. Given that an individual was in the `treatment` group, what is the probability they converted?"
      ]
    },
    {
      "cell_type": "code",
      "metadata": {
        "id": "pvO5M9w5f-06",
        "colab": {
          "base_uri": "https://localhost:8080/"
        },
        "outputId": "8be2fb04-2cd3-46e6-f9e8-95e1818ce82e"
      },
      "source": [
        "print( round(df2[df2.group == \"treatment\"].converted.mean() * 100 , 2) , \"%\")"
      ],
      "execution_count": null,
      "outputs": [
        {
          "output_type": "stream",
          "text": [
            "11.88 %\n"
          ],
          "name": "stdout"
        }
      ]
    },
    {
      "cell_type": "markdown",
      "metadata": {
        "id": "OqEYU2brf-06"
      },
      "source": [
        "d. What is the probability that an individual received the new page?"
      ]
    },
    {
      "cell_type": "code",
      "metadata": {
        "id": "x9VJIenYf-07",
        "colab": {
          "base_uri": "https://localhost:8080/"
        },
        "outputId": "4865fd3e-18da-4fd6-8f88-328864ad6634"
      },
      "source": [
        "print(round( df2[df2.landing_page == \"new_page\"].shape[0] / df2.shape[0] * 100 ,2) , \"%\")"
      ],
      "execution_count": null,
      "outputs": [
        {
          "output_type": "stream",
          "text": [
            "50.01 %\n"
          ],
          "name": "stdout"
        }
      ]
    },
    {
      "cell_type": "markdown",
      "metadata": {
        "id": "WfakBWu7f-07"
      },
      "source": [
        "e. Consider your results from a. through d. above, and explain below whether you think there is sufficient evidence to say that the new treatment page leads to more conversions."
      ]
    },
    {
      "cell_type": "markdown",
      "metadata": {
        "id": "dDBk5KJVf-07"
      },
      "source": [
        "From the probabilities above i see no significant difference"
      ]
    },
    {
      "cell_type": "markdown",
      "metadata": {
        "id": "qJptWsFDf-08"
      },
      "source": [
        "<a id='ab_test'></a>\n",
        "### Part II - A/B Test\n",
        "\n",
        "Notice that because of the time stamp associated with each event, you could technically run a hypothesis test continuously as each observation was observed.  \n",
        "\n",
        "However, then the hard question is do you stop as soon as one page is considered significantly better than another or does it need to happen consistently for a certain amount of time?  How long do you run to render a decision that neither page is better than another?  \n",
        "\n",
        "These questions are the difficult parts associated with A/B tests in general.  \n",
        "\n",
        "\n",
        "`1.` For now, consider you need to make the decision just based on all the data provided.  If you want to assume that the old page is better unless the new page proves to be definitely better at a Type I error rate of 5%, what should your null and alternative hypotheses be?  You can state your hypothesis in terms of words or in terms of **$p_{old}$** and **$p_{new}$**, which are the converted rates for the old and new pages."
      ]
    },
    {
      "cell_type": "markdown",
      "metadata": {
        "id": "80tq9fflf-08"
      },
      "source": [
        "**H0:P_old=P_new**\n",
        "\n",
        "**H1:P_new>P_old**"
      ]
    },
    {
      "cell_type": "markdown",
      "metadata": {
        "id": "wCHjH4b6f-08"
      },
      "source": [
        "`2.` Assume under the null hypothesis, $p_{new}$ and $p_{old}$ both have \"true\" success rates equal to the **converted** success rate regardless of page - that is $p_{new}$ and $p_{old}$ are equal. Furthermore, assume they are equal to the **converted** rate in **ab_data.csv** regardless of the page. <br><br>\n",
        "\n",
        "Use a sample size for each page equal to the ones in **ab_data.csv**.  <br><br>\n",
        "\n",
        "Perform the sampling distribution for the difference in **converted** between the two pages over 10,000 iterations of calculating an estimate from the null.  <br><br>\n",
        "\n",
        "Use the cells below to provide the necessary parts of this simulation.  If this doesn't make complete sense right now, don't worry - you are going to work through the problems below to complete this problem.  You can use **Quiz 5** in the classroom to make sure you are on the right track.<br><br>"
      ]
    },
    {
      "cell_type": "markdown",
      "metadata": {
        "id": "yNFdyUXnf-09"
      },
      "source": [
        "a. What is the **convert rate** for $p_{new}$ under the null? "
      ]
    },
    {
      "cell_type": "code",
      "metadata": {
        "id": "4pWfEib6f-09",
        "colab": {
          "base_uri": "https://localhost:8080/",
          "height": 0
        },
        "outputId": "0d9e8124-8699-41ed-e36f-4fc32a261994"
      },
      "source": [
        "p_null = df2['converted'].mean()\n",
        "p_null"
      ],
      "execution_count": 8,
      "outputs": [
        {
          "output_type": "execute_result",
          "data": {
            "text/plain": [
              "0.11959708724499628"
            ]
          },
          "metadata": {
            "tags": []
          },
          "execution_count": 8
        }
      ]
    },
    {
      "cell_type": "markdown",
      "metadata": {
        "id": "61quCENFf-0-"
      },
      "source": [
        "b. What is the **convert rate** for $p_{old}$ under the null? <br><br>"
      ]
    },
    {
      "cell_type": "code",
      "metadata": {
        "collapsed": true,
        "id": "jVHws09ff-1B",
        "colab": {
          "base_uri": "https://localhost:8080/",
          "height": 0
        },
        "outputId": "b15ada1e-d6f6-4403-abb2-72a719f62edb"
      },
      "source": [
        "p_null"
      ],
      "execution_count": 9,
      "outputs": [
        {
          "output_type": "execute_result",
          "data": {
            "text/plain": [
              "0.11959708724499628"
            ]
          },
          "metadata": {
            "tags": []
          },
          "execution_count": 9
        }
      ]
    },
    {
      "cell_type": "markdown",
      "metadata": {
        "id": "lPE1RzBOf-1C"
      },
      "source": [
        "c. What is $n_{new}$?"
      ]
    },
    {
      "cell_type": "code",
      "metadata": {
        "collapsed": true,
        "id": "PCSsK0jnf-1C",
        "colab": {
          "base_uri": "https://localhost:8080/",
          "height": 0
        },
        "outputId": "a59b92ed-b05a-442b-f622-0e6207006a5c"
      },
      "source": [
        "n_new = df2.query(\"landing_page == 'new_page'\").shape[0]\n",
        "n_new"
      ],
      "execution_count": 10,
      "outputs": [
        {
          "output_type": "execute_result",
          "data": {
            "text/plain": [
              "145310"
            ]
          },
          "metadata": {
            "tags": []
          },
          "execution_count": 10
        }
      ]
    },
    {
      "cell_type": "markdown",
      "metadata": {
        "id": "Pv_4-d5tf-1C"
      },
      "source": [
        "d. What is $n_{old}$?"
      ]
    },
    {
      "cell_type": "code",
      "metadata": {
        "collapsed": true,
        "id": "P411Nf5kf-1D",
        "colab": {
          "base_uri": "https://localhost:8080/",
          "height": 0
        },
        "outputId": "1bc3a634-1953-4585-b544-61d11f529695"
      },
      "source": [
        "n_old = df2.query(\"landing_page == 'old_page'\").shape[0]\n",
        "n_old"
      ],
      "execution_count": 11,
      "outputs": [
        {
          "output_type": "execute_result",
          "data": {
            "text/plain": [
              "145274"
            ]
          },
          "metadata": {
            "tags": []
          },
          "execution_count": 11
        }
      ]
    },
    {
      "cell_type": "markdown",
      "metadata": {
        "id": "cKzcLbFEf-1D"
      },
      "source": [
        "e. Simulate $n_{new}$ transactions with a convert rate of $p_{new}$ under the null.  Store these $n_{new}$ 1's and 0's in **new_page_converted**."
      ]
    },
    {
      "cell_type": "code",
      "metadata": {
        "collapsed": true,
        "id": "xI2miVAOf-1E",
        "colab": {
          "base_uri": "https://localhost:8080/",
          "height": 0
        },
        "outputId": "748273c6-6226-4ce6-ff8f-0bac1f4c0f68"
      },
      "source": [
        "new_page_converted = np.random.binomial(1, p_null, n_new)\n",
        "new_page_converted"
      ],
      "execution_count": 12,
      "outputs": [
        {
          "output_type": "execute_result",
          "data": {
            "text/plain": [
              "array([0, 0, 0, ..., 0, 0, 0])"
            ]
          },
          "metadata": {
            "tags": []
          },
          "execution_count": 12
        }
      ]
    },
    {
      "cell_type": "markdown",
      "metadata": {
        "id": "SMdneJrXf-1E"
      },
      "source": [
        "f. Simulate $n_{old}$ transactions with a convert rate of $p_{old}$ under the null.  Store these $n_{old}$ 1's and 0's in **old_page_converted**."
      ]
    },
    {
      "cell_type": "code",
      "metadata": {
        "collapsed": true,
        "id": "9qFFSgp9f-1F"
      },
      "source": [
        "old_page_converted = np.random.binomial(1, p_null, n_old)"
      ],
      "execution_count": 13,
      "outputs": []
    },
    {
      "cell_type": "markdown",
      "metadata": {
        "id": "hkq8uR9Zf-1F"
      },
      "source": [
        "g. Find $p_{new}$ - $p_{old}$ for your simulated values from part (e) and (f)."
      ]
    },
    {
      "cell_type": "code",
      "metadata": {
        "collapsed": true,
        "id": "BwwGFkU_f-1F",
        "colab": {
          "base_uri": "https://localhost:8080/",
          "height": 0
        },
        "outputId": "467fa086-dcb9-4bdb-b40b-f3424882368b"
      },
      "source": [
        "new_page_converted.mean() - old_page_converted.mean()"
      ],
      "execution_count": 14,
      "outputs": [
        {
          "output_type": "execute_result",
          "data": {
            "text/plain": [
              "-0.0004633793899554428"
            ]
          },
          "metadata": {
            "tags": []
          },
          "execution_count": 14
        }
      ]
    },
    {
      "cell_type": "markdown",
      "metadata": {
        "id": "2KO0OJJCf-1F"
      },
      "source": [
        "h. Simulate 10,000 $p_{new}$ - $p_{old}$ values using this same process similarly to the one you calculated in parts **a. through g.** above.  Store all 10,000 values in a numpy array called **p_diffs**."
      ]
    },
    {
      "cell_type": "code",
      "metadata": {
        "id": "oV0NbT1kd5Yn"
      },
      "source": [
        "p_diffs = []\n",
        "for _ in range(10000):\n",
        "    new_page_converted = np.random.choice([0, 1], size=n_new, p=[(1 - p_null), p_null])\n",
        "    old_page_converted = np.random.choice([0, 1], size=n_old, p=[(1 - p_null), p_null])\n",
        "    p_diffs.append(new_page_converted.mean() - old_page_converted.mean())"
      ],
      "execution_count": 17,
      "outputs": []
    },
    {
      "cell_type": "markdown",
      "metadata": {
        "id": "eU9Posizf-1G"
      },
      "source": [
        "i. Plot a histogram of the **p_diffs**.  Does this plot look like what you expected?  Use the matching problem in the classroom to assure you fully understand what was computed here."
      ]
    },
    {
      "cell_type": "code",
      "metadata": {
        "collapsed": true,
        "id": "SYGhHDHjf-1G",
        "colab": {
          "base_uri": "https://localhost:8080/",
          "height": 374
        },
        "outputId": "cff3eeb1-d9a6-4a0b-dc59-aed681ee1a06"
      },
      "source": [
        "plt.hist(p_diffs)"
      ],
      "execution_count": 18,
      "outputs": [
        {
          "output_type": "execute_result",
          "data": {
            "text/plain": [
              "(array([9.000e+00, 6.300e+01, 5.150e+02, 1.818e+03, 3.205e+03, 2.876e+03,\n",
              "        1.230e+03, 2.550e+02, 2.600e+01, 3.000e+00]),\n",
              " array([-0.00505415, -0.00400454, -0.00295492, -0.00190531, -0.00085569,\n",
              "         0.00019392,  0.00124354,  0.00229315,  0.00334277,  0.00439238,\n",
              "         0.005442  ]),\n",
              " <a list of 10 Patch objects>)"
            ]
          },
          "metadata": {
            "tags": []
          },
          "execution_count": 18
        },
        {
          "output_type": "display_data",
          "data": {
            "image/png": "[encoded data removed]",
            "text/plain": [
              "<Figure size 432x288 with 1 Axes>"
            ]
          },
          "metadata": {
            "tags": [],
            "needs_background": "light"
          }
        }
      ]
    },
    {
      "cell_type": "code",
      "metadata": {
        "id": "9rowCVcdaWEi"
      },
      "source": [
        "treatment_prob = df2[df2.group == \"treatment\"].converted.mean()\n",
        "control_prob = df2[df2.group == \"control\"].converted.mean()"
      ],
      "execution_count": 19,
      "outputs": []
    },
    {
      "cell_type": "code",
      "metadata": {
        "collapsed": true,
        "id": "nvt3DAxyf-1H",
        "colab": {
          "base_uri": "https://localhost:8080/",
          "height": 298
        },
        "outputId": "98d2f832-e0d5-4b02-df0d-b01072b5248c"
      },
      "source": [
        "obs_diff = treatment_prob - control_prob\n",
        "p_diffs = np.asarray(p_diffs)\n",
        "plt.hist(p_diffs)\n",
        "plt.title(\"Simulated Differences in Conversion Rates for the Null Hypothesis\", fontsize=12)\n",
        "plt.xlabel(\"Probability Difference\", fontsize=12)\n",
        "plt.axvline(obs_diff, color='r');\n"
      ],
      "execution_count": 20,
      "outputs": [
        {
          "output_type": "display_data",
          "data": {
            "image/png": "[encoded data removed]",
            "text/plain": [
              "<Figure size 432x288 with 1 Axes>"
            ]
          },
          "metadata": {
            "tags": [],
            "needs_background": "light"
          }
        }
      ]
    },
    {
      "cell_type": "markdown",
      "metadata": {
        "id": "XALNwpFgf-1G"
      },
      "source": [
        "j. What proportion of the **p_diffs** are greater than the actual difference observed in **ab_data.csv**?"
      ]
    },
    {
      "cell_type": "code",
      "metadata": {
        "colab": {
          "base_uri": "https://localhost:8080/",
          "height": 0
        },
        "id": "QxTnDjAYeyNQ",
        "outputId": "42071e7b-1ec1-45b7-c1dc-be7c69ec55e6"
      },
      "source": [
        "(p_diffs >= obs_diff).mean()"
      ],
      "execution_count": 21,
      "outputs": [
        {
          "output_type": "execute_result",
          "data": {
            "text/plain": [
              "0.9037"
            ]
          },
          "metadata": {
            "tags": []
          },
          "execution_count": 21
        }
      ]
    },
    {
      "cell_type": "markdown",
      "metadata": {
        "id": "y-HNbCvsf-1H"
      },
      "source": [
        "k. In words, explain what you just computed in part **j.**  What is this value called in scientific studies?  What does this value mean in terms of whether or not there is a difference between the new and old pages?"
      ]
    },
    {
      "cell_type": "markdown",
      "metadata": {
        "id": "LYuyRt73f-1H"
      },
      "source": [
        "I just cpmouted the P-Value which represent the probability that the difference between the treatment and control is just a random effect and it can be happened normally and since it's too big (greater than 5% in our case) hence we can say that there is no significant difference between the converte rate in the control and treatment\n"
      ]
    },
    {
      "cell_type": "markdown",
      "metadata": {
        "id": "KBJCBY3gf-1H"
      },
      "source": [
        "l. We could also use a built-in to achieve similar results.  Though using the built-in might be easier to code, the above portions are a walkthrough of the ideas that are critical to correctly thinking about statistical significance. Fill in the below to calculate the number of conversions for each page, as well as the number of individuals who received each page. Let `n_old` and `n_new` refer the the number of rows associated with the old page and new pages, respectively."
      ]
    },
    {
      "cell_type": "code",
      "metadata": {
        "collapsed": true,
        "id": "hJjsMXnlf-1H",
        "colab": {
          "base_uri": "https://localhost:8080/",
          "height": 0
        },
        "outputId": "04d528ae-d85b-4208-92ce-14d3973a1592"
      },
      "source": [
        "import statsmodels.api as sm\n",
        "convert_old = df2.query(\"landing_page == 'old_page'\")['converted'].sum()\n",
        "convert_new = df2.query(\"landing_page == 'new_page'\")['converted'].sum() "
      ],
      "execution_count": 28,
      "outputs": [
        {
          "output_type": "stream",
          "text": [
            "/usr/local/lib/python3.7/dist-packages/statsmodels/tools/_testing.py:19: FutureWarning: pandas.util.testing is deprecated. Use the functions in the public API at pandas.testing instead.\n",
            "  import pandas.util.testing as tm\n"
          ],
          "name": "stderr"
        }
      ]
    },
    {
      "cell_type": "markdown",
      "metadata": {
        "id": "2Mtc-M6ff-1I"
      },
      "source": [
        "m. Now use `stats.proportions_ztest` to compute your test statistic and p-value.  [Here](http://knowledgetack.com/python/statsmodels/proportions_ztest/) is a helpful link on using the built in."
      ]
    },
    {
      "cell_type": "markdown",
      "metadata": {
        "id": "jzxgIZtkczUs"
      },
      "source": [
        "z_score, p_value = sm.stats.proportions_ztest([convert_old, convert_new], [n_old, n_new])\n",
        "print(z_score, p_value)"
      ]
    },
    {
      "cell_type": "code",
      "metadata": {
        "collapsed": true,
        "id": "tFFvnEgrf-1I",
        "colab": {
          "base_uri": "https://localhost:8080/",
          "height": 0
        },
        "outputId": "9da76f81-96db-4e51-c20f-c3e464d9081c"
      },
      "source": [
        "z_score, p_value = sm.stats.proportions_ztest([convert_old , convert_new] , [n_old , n_new])\n",
        "print(\"z_score: \",z_score , \"\\n p_value: \" , p_value)"
      ],
      "execution_count": 24,
      "outputs": [
        {
          "output_type": "stream",
          "text": [
            "z_score:  1.3109241984234394 \n",
            " p_value:  0.18988337448195103\n"
          ],
          "name": "stdout"
        }
      ]
    },
    {
      "cell_type": "markdown",
      "metadata": {
        "id": "lJUharzqf-1I"
      },
      "source": [
        "n. What do the z-score and p-value you computed in the previous question mean for the conversion rates of the old and new pages?  Do they agree with the findings in parts **j.** and **k.**?"
      ]
    },
    {
      "cell_type": "markdown",
      "metadata": {
        "id": "hgJ1pEvUf-1I"
      },
      "source": [
        "Yes, they are almost the same\n",
        "\n",
        "Z_score means the (difference between the old and new conversion rate) and the null hypothesis is 1.31 standard deviations units which didn't reach the 1.96 value to be able to reject the null hypothesis \n",
        "\n",
        "P-value is not below 0.05 hence the ruslted value in the treatment can be happens from the random chance in the data and we can not reject the null  "
      ]
    },
    {
      "cell_type": "markdown",
      "metadata": {
        "id": "gBrJVYkTf-1J"
      },
      "source": [
        "<a id='regression'></a>\n",
        "### Part III - A regression approach\n",
        "\n",
        "`1.` In this final part, you will see that the result you acheived in the previous A/B test can also be acheived by performing regression.<br><br>\n",
        "\n",
        "a. Since each row is either a conversion or no conversion, what type of regression should you be performing in this case?"
      ]
    },
    {
      "cell_type": "markdown",
      "metadata": {
        "id": "yk2QureJf-1J"
      },
      "source": [
        "Logistic Regression"
      ]
    },
    {
      "cell_type": "markdown",
      "metadata": {
        "id": "EmTUaVCqf-1J"
      },
      "source": [
        "b. The goal is to use **statsmodels** to fit the regression model you specified in part **a.** to see if there is a significant difference in conversion based on which page a customer receives.  However, you first need to create a column for the intercept, and create a dummy variable column for which page each user received.  Add an **intercept** column, as well as an **ab_page** column, which is 1 when an individual receives the **treatment** and 0 if **control**."
      ]
    },
    {
      "cell_type": "code",
      "metadata": {
        "collapsed": true,
        "id": "jzviGvJPf-1K",
        "colab": {
          "base_uri": "https://localhost:8080/",
          "height": 198
        },
        "outputId": "956fedb0-222e-43c6-db7e-b059feebe55d"
      },
      "source": [
        "df2['intercept'] = 1\n",
        "df2[['_', 'ab_page']] = pd.get_dummies(df2['group'])\n",
        "df2 = df2.drop('_', axis=1)\n",
        "df2.head()"
      ],
      "execution_count": 22,
      "outputs": [
        {
          "output_type": "execute_result",
          "data": {
            "text/html": [
              "<div>\n",
              "<style scoped>\n",
              "    .dataframe tbody tr th:only-of-type {\n",
              "        vertical-align: middle;\n",
              "    }\n",
              "\n",
              "    .dataframe tbody tr th {\n",
              "        vertical-align: top;\n",
              "    }\n",
              "\n",
              "    .dataframe thead th {\n",
              "        text-align: right;\n",
              "    }\n",
              "</style>\n",
              "<table border=\"1\" class=\"dataframe\">\n",
              "  <thead>\n",
              "    <tr style=\"text-align: right;\">\n",
              "      <th></th>\n",
              "      <th>user_id</th>\n",
              "      <th>timestamp</th>\n",
              "      <th>group</th>\n",
              "      <th>landing_page</th>\n",
              "      <th>converted</th>\n",
              "      <th>intercept</th>\n",
              "      <th>ab_page</th>\n",
              "    </tr>\n",
              "  </thead>\n",
              "  <tbody>\n",
              "    <tr>\n",
              "      <th>0</th>\n",
              "      <td>851104</td>\n",
              "      <td>2017-01-21 22:11:48.556739</td>\n",
              "      <td>control</td>\n",
              "      <td>old_page</td>\n",
              "      <td>0</td>\n",
              "      <td>1</td>\n",
              "      <td>0</td>\n",
              "    </tr>\n",
              "    <tr>\n",
              "      <th>1</th>\n",
              "      <td>804228</td>\n",
              "      <td>2017-01-12 08:01:45.159739</td>\n",
              "      <td>control</td>\n",
              "      <td>old_page</td>\n",
              "      <td>0</td>\n",
              "      <td>1</td>\n",
              "      <td>0</td>\n",
              "    </tr>\n",
              "    <tr>\n",
              "      <th>2</th>\n",
              "      <td>661590</td>\n",
              "      <td>2017-01-11 16:55:06.154213</td>\n",
              "      <td>treatment</td>\n",
              "      <td>new_page</td>\n",
              "      <td>0</td>\n",
              "      <td>1</td>\n",
              "      <td>1</td>\n",
              "    </tr>\n",
              "    <tr>\n",
              "      <th>3</th>\n",
              "      <td>853541</td>\n",
              "      <td>2017-01-08 18:28:03.143765</td>\n",
              "      <td>treatment</td>\n",
              "      <td>new_page</td>\n",
              "      <td>0</td>\n",
              "      <td>1</td>\n",
              "      <td>1</td>\n",
              "    </tr>\n",
              "    <tr>\n",
              "      <th>4</th>\n",
              "      <td>864975</td>\n",
              "      <td>2017-01-21 01:52:26.210827</td>\n",
              "      <td>control</td>\n",
              "      <td>old_page</td>\n",
              "      <td>1</td>\n",
              "      <td>1</td>\n",
              "      <td>0</td>\n",
              "    </tr>\n",
              "  </tbody>\n",
              "</table>\n",
              "</div>"
            ],
            "text/plain": [
              "   user_id                   timestamp  ... intercept ab_page\n",
              "0   851104  2017-01-21 22:11:48.556739  ...         1       0\n",
              "1   804228  2017-01-12 08:01:45.159739  ...         1       0\n",
              "2   661590  2017-01-11 16:55:06.154213  ...         1       1\n",
              "3   853541  2017-01-08 18:28:03.143765  ...         1       1\n",
              "4   864975  2017-01-21 01:52:26.210827  ...         1       0\n",
              "\n",
              "[5 rows x 7 columns]"
            ]
          },
          "metadata": {
            "tags": []
          },
          "execution_count": 22
        }
      ]
    },
    {
      "cell_type": "markdown",
      "metadata": {
        "id": "t0v-usG5f-1K"
      },
      "source": [
        "c. Use **statsmodels** to import your regression model.  Instantiate the model, and fit the model using the two columns you created in part **b.** to predict whether or not an individual converts."
      ]
    },
    {
      "cell_type": "code",
      "metadata": {
        "colab": {
          "base_uri": "https://localhost:8080/",
          "height": 0
        },
        "id": "CePk_8uFgovD",
        "outputId": "abb89fa2-5b89-41c7-f07e-91e29db7ff0b"
      },
      "source": [
        "model = sm.Logit(df2['converted'] , df2[['intercept' , 'ab_page']])\n",
        "res = model.fit()"
      ],
      "execution_count": 28,
      "outputs": [
        {
          "output_type": "stream",
          "text": [
            "Optimization terminated successfully.\n",
            "         Current function value: 0.366118\n",
            "         Iterations 6\n"
          ],
          "name": "stdout"
        }
      ]
    },
    {
      "cell_type": "markdown",
      "metadata": {
        "id": "70FfeugBf-1K"
      },
      "source": [
        "d. Provide the summary of your model below, and use it as necessary to answer the following questions."
      ]
    },
    {
      "cell_type": "code",
      "metadata": {
        "collapsed": true,
        "id": "ujlig2mMf-1L",
        "colab": {
          "base_uri": "https://localhost:8080/",
          "height": 247
        },
        "outputId": "e640883e-387b-44cd-f7d7-d3f6c1a364ff"
      },
      "source": [
        "res.summary()"
      ],
      "execution_count": 30,
      "outputs": [
        {
          "output_type": "execute_result",
          "data": {
            "text/html": [
              "<table class=\"simpletable\">\n",
              "<caption>Logit Regression Results</caption>\n",
              "<tr>\n",
              "  <th>Dep. Variable:</th>       <td>converted</td>    <th>  No. Observations:  </th>   <td>290584</td>   \n",
              "</tr>\n",
              "<tr>\n",
              "  <th>Model:</th>                 <td>Logit</td>      <th>  Df Residuals:      </th>   <td>290582</td>   \n",
              "</tr>\n",
              "<tr>\n",
              "  <th>Method:</th>                 <td>MLE</td>       <th>  Df Model:          </th>   <td>     1</td>   \n",
              "</tr>\n",
              "<tr>\n",
              "  <th>Date:</th>            <td>Mon, 24 May 2021</td> <th>  Pseudo R-squ.:     </th>  <td>8.077e-06</td> \n",
              "</tr>\n",
              "<tr>\n",
              "  <th>Time:</th>                <td>17:59:40</td>     <th>  Log-Likelihood:    </th> <td>-1.0639e+05</td>\n",
              "</tr>\n",
              "<tr>\n",
              "  <th>converged:</th>             <td>True</td>       <th>  LL-Null:           </th> <td>-1.0639e+05</td>\n",
              "</tr>\n",
              "<tr>\n",
              "  <th>Covariance Type:</th>     <td>nonrobust</td>    <th>  LLR p-value:       </th>   <td>0.1899</td>   \n",
              "</tr>\n",
              "</table>\n",
              "<table class=\"simpletable\">\n",
              "<tr>\n",
              "      <td></td>         <th>coef</th>     <th>std err</th>      <th>z</th>      <th>P>|z|</th>  <th>[0.025</th>    <th>0.975]</th>  \n",
              "</tr>\n",
              "<tr>\n",
              "  <th>intercept</th> <td>   -1.9888</td> <td>    0.008</td> <td> -246.669</td> <td> 0.000</td> <td>   -2.005</td> <td>   -1.973</td>\n",
              "</tr>\n",
              "<tr>\n",
              "  <th>ab_page</th>   <td>   -0.0150</td> <td>    0.011</td> <td>   -1.311</td> <td> 0.190</td> <td>   -0.037</td> <td>    0.007</td>\n",
              "</tr>\n",
              "</table>"
            ],
            "text/plain": [
              "<class 'statsmodels.iolib.summary.Summary'>\n",
              "\"\"\"\n",
              "                           Logit Regression Results                           \n",
              "==============================================================================\n",
              "Dep. Variable:              converted   No. Observations:               290584\n",
              "Model:                          Logit   Df Residuals:                   290582\n",
              "Method:                           MLE   Df Model:                            1\n",
              "Date:                Mon, 24 May 2021   Pseudo R-squ.:               8.077e-06\n",
              "Time:                        17:59:40   Log-Likelihood:            -1.0639e+05\n",
              "converged:                       True   LL-Null:                   -1.0639e+05\n",
              "Covariance Type:            nonrobust   LLR p-value:                    0.1899\n",
              "==============================================================================\n",
              "                 coef    std err          z      P>|z|      [0.025      0.975]\n",
              "------------------------------------------------------------------------------\n",
              "intercept     -1.9888      0.008   -246.669      0.000      -2.005      -1.973\n",
              "ab_page       -0.0150      0.011     -1.311      0.190      -0.037       0.007\n",
              "==============================================================================\n",
              "\"\"\""
            ]
          },
          "metadata": {
            "tags": []
          },
          "execution_count": 30
        }
      ]
    },
    {
      "cell_type": "markdown",
      "metadata": {
        "id": "M3MbOwuHf-1L"
      },
      "source": [
        "e. What is the p-value associated with **ab_page**? Why does it differ from the value you found in **Part II**?<br><br>  **Hint**: What are the null and alternative hypotheses associated with your regression model, and how do they compare to the null and alternative hypotheses in the **Part II**?"
      ]
    },
    {
      "cell_type": "markdown",
      "metadata": {
        "id": "18YbfDSDf-1L"
      },
      "source": [
        "The p-value associated with ab_page is 0.190 here, which is similar to the previous values, but slightly higher. This model is attempting to predict whether a user will convert depending on their page. The null hypothesis is that when ab_page = 1, converted = 0; the alternative hypothesis is that when ab_page = 1, converted is more likely to be 1."
      ]
    },
    {
      "cell_type": "markdown",
      "metadata": {
        "id": "6mxqcWtef-1M"
      },
      "source": [
        "f. Now, you are considering other things that might influence whether or not an individual converts.  Discuss why it is a good idea to consider other factors to add into your regression model.  Are there any disadvantages to adding additional terms into your regression model?"
      ]
    },
    {
      "cell_type": "markdown",
      "metadata": {
        "id": "2HcBiP53f-1M"
      },
      "source": [
        "It seems that there is no big impace for the page layout so mabye we need to add more feature like the orders history of the client the popularity of the item the price of the item and so on and start to see the imapct of each feature on predicting if the customer will convert or no"
      ]
    },
    {
      "cell_type": "markdown",
      "metadata": {
        "id": "hwDFv0Shf-1N"
      },
      "source": [
        "g. Now along with testing if the conversion rate changes for different pages, also add an effect based on which country a user lives. You will need to read in the **countries.csv** dataset and merge together your datasets on the approporiate rows.  [Here](https://pandas.pydata.org/pandas-docs/stable/generated/pandas.DataFrame.join.html) are the docs for joining tables. \n",
        "\n",
        "Does it appear that country had an impact on conversion?  Don't forget to create dummy variables for these country columns - **Hint: You will need two columns for the three dummy variables.** Provide the statistical output as well as a written response to answer this question."
      ]
    },
    {
      "cell_type": "code",
      "metadata": {
        "collapsed": true,
        "colab": {
          "base_uri": "https://localhost:8080/",
          "height": 198
        },
        "id": "yH5_TiTgf-1N",
        "outputId": "182755b1-b98c-4b42-f965-ebec56303fa8"
      },
      "source": [
        "countries = pd.read_csv('/content/drive/MyDrive/Udacity Nano-degree projects data/countries.csv')\n",
        "countries.head()"
      ],
      "execution_count": 23,
      "outputs": [
        {
          "output_type": "execute_result",
          "data": {
            "text/html": [
              "<div>\n",
              "<style scoped>\n",
              "    .dataframe tbody tr th:only-of-type {\n",
              "        vertical-align: middle;\n",
              "    }\n",
              "\n",
              "    .dataframe tbody tr th {\n",
              "        vertical-align: top;\n",
              "    }\n",
              "\n",
              "    .dataframe thead th {\n",
              "        text-align: right;\n",
              "    }\n",
              "</style>\n",
              "<table border=\"1\" class=\"dataframe\">\n",
              "  <thead>\n",
              "    <tr style=\"text-align: right;\">\n",
              "      <th></th>\n",
              "      <th>user_id</th>\n",
              "      <th>country</th>\n",
              "    </tr>\n",
              "  </thead>\n",
              "  <tbody>\n",
              "    <tr>\n",
              "      <th>0</th>\n",
              "      <td>834778</td>\n",
              "      <td>UK</td>\n",
              "    </tr>\n",
              "    <tr>\n",
              "      <th>1</th>\n",
              "      <td>928468</td>\n",
              "      <td>US</td>\n",
              "    </tr>\n",
              "    <tr>\n",
              "      <th>2</th>\n",
              "      <td>822059</td>\n",
              "      <td>UK</td>\n",
              "    </tr>\n",
              "    <tr>\n",
              "      <th>3</th>\n",
              "      <td>711597</td>\n",
              "      <td>UK</td>\n",
              "    </tr>\n",
              "    <tr>\n",
              "      <th>4</th>\n",
              "      <td>710616</td>\n",
              "      <td>UK</td>\n",
              "    </tr>\n",
              "  </tbody>\n",
              "</table>\n",
              "</div>"
            ],
            "text/plain": [
              "   user_id country\n",
              "0   834778      UK\n",
              "1   928468      US\n",
              "2   822059      UK\n",
              "3   711597      UK\n",
              "4   710616      UK"
            ]
          },
          "metadata": {
            "tags": []
          },
          "execution_count": 23
        }
      ]
    },
    {
      "cell_type": "code",
      "metadata": {
        "colab": {
          "base_uri": "https://localhost:8080/",
          "height": 228
        },
        "id": "XzB_EhvbieCi",
        "outputId": "6fa6ca8e-c6a1-403a-dfc3-78e8bf3a5d62"
      },
      "source": [
        "countries_new = countries.set_index('user_id').join(df2.set_index('user_id'), how='inner')\n",
        "countries_new.head()"
      ],
      "execution_count": 24,
      "outputs": [
        {
          "output_type": "execute_result",
          "data": {
            "text/html": [
              "<div>\n",
              "<style scoped>\n",
              "    .dataframe tbody tr th:only-of-type {\n",
              "        vertical-align: middle;\n",
              "    }\n",
              "\n",
              "    .dataframe tbody tr th {\n",
              "        vertical-align: top;\n",
              "    }\n",
              "\n",
              "    .dataframe thead th {\n",
              "        text-align: right;\n",
              "    }\n",
              "</style>\n",
              "<table border=\"1\" class=\"dataframe\">\n",
              "  <thead>\n",
              "    <tr style=\"text-align: right;\">\n",
              "      <th></th>\n",
              "      <th>country</th>\n",
              "      <th>timestamp</th>\n",
              "      <th>group</th>\n",
              "      <th>landing_page</th>\n",
              "      <th>converted</th>\n",
              "      <th>intercept</th>\n",
              "      <th>ab_page</th>\n",
              "    </tr>\n",
              "    <tr>\n",
              "      <th>user_id</th>\n",
              "      <th></th>\n",
              "      <th></th>\n",
              "      <th></th>\n",
              "      <th></th>\n",
              "      <th></th>\n",
              "      <th></th>\n",
              "      <th></th>\n",
              "    </tr>\n",
              "  </thead>\n",
              "  <tbody>\n",
              "    <tr>\n",
              "      <th>834778</th>\n",
              "      <td>UK</td>\n",
              "      <td>2017-01-14 23:08:43.304998</td>\n",
              "      <td>control</td>\n",
              "      <td>old_page</td>\n",
              "      <td>0</td>\n",
              "      <td>1</td>\n",
              "      <td>0</td>\n",
              "    </tr>\n",
              "    <tr>\n",
              "      <th>928468</th>\n",
              "      <td>US</td>\n",
              "      <td>2017-01-23 14:44:16.387854</td>\n",
              "      <td>treatment</td>\n",
              "      <td>new_page</td>\n",
              "      <td>0</td>\n",
              "      <td>1</td>\n",
              "      <td>1</td>\n",
              "    </tr>\n",
              "    <tr>\n",
              "      <th>822059</th>\n",
              "      <td>UK</td>\n",
              "      <td>2017-01-16 14:04:14.719771</td>\n",
              "      <td>treatment</td>\n",
              "      <td>new_page</td>\n",
              "      <td>1</td>\n",
              "      <td>1</td>\n",
              "      <td>1</td>\n",
              "    </tr>\n",
              "    <tr>\n",
              "      <th>711597</th>\n",
              "      <td>UK</td>\n",
              "      <td>2017-01-22 03:14:24.763511</td>\n",
              "      <td>control</td>\n",
              "      <td>old_page</td>\n",
              "      <td>0</td>\n",
              "      <td>1</td>\n",
              "      <td>0</td>\n",
              "    </tr>\n",
              "    <tr>\n",
              "      <th>710616</th>\n",
              "      <td>UK</td>\n",
              "      <td>2017-01-16 13:14:44.000513</td>\n",
              "      <td>treatment</td>\n",
              "      <td>new_page</td>\n",
              "      <td>0</td>\n",
              "      <td>1</td>\n",
              "      <td>1</td>\n",
              "    </tr>\n",
              "  </tbody>\n",
              "</table>\n",
              "</div>"
            ],
            "text/plain": [
              "        country                   timestamp  ... intercept ab_page\n",
              "user_id                                      ...                  \n",
              "834778       UK  2017-01-14 23:08:43.304998  ...         1       0\n",
              "928468       US  2017-01-23 14:44:16.387854  ...         1       1\n",
              "822059       UK  2017-01-16 14:04:14.719771  ...         1       1\n",
              "711597       UK  2017-01-22 03:14:24.763511  ...         1       0\n",
              "710616       UK  2017-01-16 13:14:44.000513  ...         1       1\n",
              "\n",
              "[5 rows x 7 columns]"
            ]
          },
          "metadata": {
            "tags": []
          },
          "execution_count": 24
        }
      ]
    },
    {
      "cell_type": "code",
      "metadata": {
        "collapsed": true,
        "id": "MV4kNPA3f-1O"
      },
      "source": [
        "countries_new[['CA', 'UK', 'US']] = pd.get_dummies(countries_new['country'])"
      ],
      "execution_count": 25,
      "outputs": []
    },
    {
      "cell_type": "code",
      "metadata": {
        "colab": {
          "base_uri": "https://localhost:8080/",
          "height": 335
        },
        "id": "duQjkftOkQvE",
        "outputId": "9ac917f4-4c9c-439c-8b0e-d8fc604ef8b1"
      },
      "source": [
        "countries_new.drop(\"country\" , axis = 1 , inplace = True)\n",
        "countries_new.head()"
      ],
      "execution_count": 26,
      "outputs": [
        {
          "output_type": "execute_result",
          "data": {
            "text/html": [
              "<div>\n",
              "<style scoped>\n",
              "    .dataframe tbody tr th:only-of-type {\n",
              "        vertical-align: middle;\n",
              "    }\n",
              "\n",
              "    .dataframe tbody tr th {\n",
              "        vertical-align: top;\n",
              "    }\n",
              "\n",
              "    .dataframe thead th {\n",
              "        text-align: right;\n",
              "    }\n",
              "</style>\n",
              "<table border=\"1\" class=\"dataframe\">\n",
              "  <thead>\n",
              "    <tr style=\"text-align: right;\">\n",
              "      <th></th>\n",
              "      <th>timestamp</th>\n",
              "      <th>group</th>\n",
              "      <th>landing_page</th>\n",
              "      <th>converted</th>\n",
              "      <th>intercept</th>\n",
              "      <th>ab_page</th>\n",
              "      <th>CA</th>\n",
              "      <th>UK</th>\n",
              "      <th>US</th>\n",
              "    </tr>\n",
              "    <tr>\n",
              "      <th>user_id</th>\n",
              "      <th></th>\n",
              "      <th></th>\n",
              "      <th></th>\n",
              "      <th></th>\n",
              "      <th></th>\n",
              "      <th></th>\n",
              "      <th></th>\n",
              "      <th></th>\n",
              "      <th></th>\n",
              "    </tr>\n",
              "  </thead>\n",
              "  <tbody>\n",
              "    <tr>\n",
              "      <th>834778</th>\n",
              "      <td>2017-01-14 23:08:43.304998</td>\n",
              "      <td>control</td>\n",
              "      <td>old_page</td>\n",
              "      <td>0</td>\n",
              "      <td>1</td>\n",
              "      <td>0</td>\n",
              "      <td>0</td>\n",
              "      <td>1</td>\n",
              "      <td>0</td>\n",
              "    </tr>\n",
              "    <tr>\n",
              "      <th>928468</th>\n",
              "      <td>2017-01-23 14:44:16.387854</td>\n",
              "      <td>treatment</td>\n",
              "      <td>new_page</td>\n",
              "      <td>0</td>\n",
              "      <td>1</td>\n",
              "      <td>1</td>\n",
              "      <td>0</td>\n",
              "      <td>0</td>\n",
              "      <td>1</td>\n",
              "    </tr>\n",
              "    <tr>\n",
              "      <th>822059</th>\n",
              "      <td>2017-01-16 14:04:14.719771</td>\n",
              "      <td>treatment</td>\n",
              "      <td>new_page</td>\n",
              "      <td>1</td>\n",
              "      <td>1</td>\n",
              "      <td>1</td>\n",
              "      <td>0</td>\n",
              "      <td>1</td>\n",
              "      <td>0</td>\n",
              "    </tr>\n",
              "    <tr>\n",
              "      <th>711597</th>\n",
              "      <td>2017-01-22 03:14:24.763511</td>\n",
              "      <td>control</td>\n",
              "      <td>old_page</td>\n",
              "      <td>0</td>\n",
              "      <td>1</td>\n",
              "      <td>0</td>\n",
              "      <td>0</td>\n",
              "      <td>1</td>\n",
              "      <td>0</td>\n",
              "    </tr>\n",
              "    <tr>\n",
              "      <th>710616</th>\n",
              "      <td>2017-01-16 13:14:44.000513</td>\n",
              "      <td>treatment</td>\n",
              "      <td>new_page</td>\n",
              "      <td>0</td>\n",
              "      <td>1</td>\n",
              "      <td>1</td>\n",
              "      <td>0</td>\n",
              "      <td>1</td>\n",
              "      <td>0</td>\n",
              "    </tr>\n",
              "  </tbody>\n",
              "</table>\n",
              "</div>"
            ],
            "text/plain": [
              "                          timestamp      group landing_page  ...  CA  UK  US\n",
              "user_id                                                      ...            \n",
              "834778   2017-01-14 23:08:43.304998    control     old_page  ...   0   1   0\n",
              "928468   2017-01-23 14:44:16.387854  treatment     new_page  ...   0   0   1\n",
              "822059   2017-01-16 14:04:14.719771  treatment     new_page  ...   0   1   0\n",
              "711597   2017-01-22 03:14:24.763511    control     old_page  ...   0   1   0\n",
              "710616   2017-01-16 13:14:44.000513  treatment     new_page  ...   0   1   0\n",
              "\n",
              "[5 rows x 9 columns]"
            ]
          },
          "metadata": {
            "tags": []
          },
          "execution_count": 26
        }
      ]
    },
    {
      "cell_type": "code",
      "metadata": {
        "collapsed": true,
        "id": "Ol_WAQgjf-1O",
        "colab": {
          "base_uri": "https://localhost:8080/",
          "height": 344
        },
        "outputId": "3a08c31e-2981-4aba-ba27-8c9112353bf1"
      },
      "source": [
        "### Fit Your Linear Model And Obtain the Results\n",
        "model = sm.Logit( countries_new['converted'] , countries_new[['intercept' , 'ab_page', 'CA','UK']] )\n",
        "res = model.fit()\n",
        "res.summary()"
      ],
      "execution_count": 29,
      "outputs": [
        {
          "output_type": "stream",
          "text": [
            "Optimization terminated successfully.\n",
            "         Current function value: 0.366113\n",
            "         Iterations 6\n"
          ],
          "name": "stdout"
        },
        {
          "output_type": "execute_result",
          "data": {
            "text/html": [
              "<table class=\"simpletable\">\n",
              "<caption>Logit Regression Results</caption>\n",
              "<tr>\n",
              "  <th>Dep. Variable:</th>       <td>converted</td>    <th>  No. Observations:  </th>   <td>290584</td>   \n",
              "</tr>\n",
              "<tr>\n",
              "  <th>Model:</th>                 <td>Logit</td>      <th>  Df Residuals:      </th>   <td>290580</td>   \n",
              "</tr>\n",
              "<tr>\n",
              "  <th>Method:</th>                 <td>MLE</td>       <th>  Df Model:          </th>   <td>     3</td>   \n",
              "</tr>\n",
              "<tr>\n",
              "  <th>Date:</th>            <td>Mon, 24 May 2021</td> <th>  Pseudo R-squ.:     </th>  <td>2.323e-05</td> \n",
              "</tr>\n",
              "<tr>\n",
              "  <th>Time:</th>                <td>22:26:52</td>     <th>  Log-Likelihood:    </th> <td>-1.0639e+05</td>\n",
              "</tr>\n",
              "<tr>\n",
              "  <th>converged:</th>             <td>True</td>       <th>  LL-Null:           </th> <td>-1.0639e+05</td>\n",
              "</tr>\n",
              "<tr>\n",
              "  <th>Covariance Type:</th>     <td>nonrobust</td>    <th>  LLR p-value:       </th>   <td>0.1760</td>   \n",
              "</tr>\n",
              "</table>\n",
              "<table class=\"simpletable\">\n",
              "<tr>\n",
              "      <td></td>         <th>coef</th>     <th>std err</th>      <th>z</th>      <th>P>|z|</th>  <th>[0.025</th>    <th>0.975]</th>  \n",
              "</tr>\n",
              "<tr>\n",
              "  <th>intercept</th> <td>   -1.9893</td> <td>    0.009</td> <td> -223.763</td> <td> 0.000</td> <td>   -2.007</td> <td>   -1.972</td>\n",
              "</tr>\n",
              "<tr>\n",
              "  <th>ab_page</th>   <td>   -0.0149</td> <td>    0.011</td> <td>   -1.307</td> <td> 0.191</td> <td>   -0.037</td> <td>    0.007</td>\n",
              "</tr>\n",
              "<tr>\n",
              "  <th>CA</th>        <td>   -0.0408</td> <td>    0.027</td> <td>   -1.516</td> <td> 0.130</td> <td>   -0.093</td> <td>    0.012</td>\n",
              "</tr>\n",
              "<tr>\n",
              "  <th>UK</th>        <td>    0.0099</td> <td>    0.013</td> <td>    0.743</td> <td> 0.457</td> <td>   -0.016</td> <td>    0.036</td>\n",
              "</tr>\n",
              "</table>"
            ],
            "text/plain": [
              "<class 'statsmodels.iolib.summary.Summary'>\n",
              "\"\"\"\n",
              "                           Logit Regression Results                           \n",
              "==============================================================================\n",
              "Dep. Variable:              converted   No. Observations:               290584\n",
              "Model:                          Logit   Df Residuals:                   290580\n",
              "Method:                           MLE   Df Model:                            3\n",
              "Date:                Mon, 24 May 2021   Pseudo R-squ.:               2.323e-05\n",
              "Time:                        22:26:52   Log-Likelihood:            -1.0639e+05\n",
              "converged:                       True   LL-Null:                   -1.0639e+05\n",
              "Covariance Type:            nonrobust   LLR p-value:                    0.1760\n",
              "==============================================================================\n",
              "                 coef    std err          z      P>|z|      [0.025      0.975]\n",
              "------------------------------------------------------------------------------\n",
              "intercept     -1.9893      0.009   -223.763      0.000      -2.007      -1.972\n",
              "ab_page       -0.0149      0.011     -1.307      0.191      -0.037       0.007\n",
              "CA            -0.0408      0.027     -1.516      0.130      -0.093       0.012\n",
              "UK             0.0099      0.013      0.743      0.457      -0.016       0.036\n",
              "==============================================================================\n",
              "\"\"\""
            ]
          },
          "metadata": {
            "tags": []
          },
          "execution_count": 29
        }
      ]
    },
    {
      "cell_type": "code",
      "metadata": {
        "colab": {
          "base_uri": "https://localhost:8080/",
          "height": 344
        },
        "id": "ISiwLs64kjlF",
        "outputId": "3eab88ff-8e13-4682-fd2e-545055052c56"
      },
      "source": [
        "logit_mod = sm.Logit(countries_new['converted'], countries_new[['intercept', 'ab_page', 'CA', 'UK']])\n",
        "results = logit_mod.fit()\n",
        "results.summary()"
      ],
      "execution_count": 33,
      "outputs": [
        {
          "output_type": "stream",
          "text": [
            "Optimization terminated successfully.\n",
            "         Current function value: 0.366113\n",
            "         Iterations 6\n"
          ],
          "name": "stdout"
        },
        {
          "output_type": "execute_result",
          "data": {
            "text/html": [
              "<table class=\"simpletable\">\n",
              "<caption>Logit Regression Results</caption>\n",
              "<tr>\n",
              "  <th>Dep. Variable:</th>       <td>converted</td>    <th>  No. Observations:  </th>   <td>290584</td>   \n",
              "</tr>\n",
              "<tr>\n",
              "  <th>Model:</th>                 <td>Logit</td>      <th>  Df Residuals:      </th>   <td>290580</td>   \n",
              "</tr>\n",
              "<tr>\n",
              "  <th>Method:</th>                 <td>MLE</td>       <th>  Df Model:          </th>   <td>     3</td>   \n",
              "</tr>\n",
              "<tr>\n",
              "  <th>Date:</th>            <td>Mon, 24 May 2021</td> <th>  Pseudo R-squ.:     </th>  <td>2.323e-05</td> \n",
              "</tr>\n",
              "<tr>\n",
              "  <th>Time:</th>                <td>22:28:46</td>     <th>  Log-Likelihood:    </th> <td>-1.0639e+05</td>\n",
              "</tr>\n",
              "<tr>\n",
              "  <th>converged:</th>             <td>True</td>       <th>  LL-Null:           </th> <td>-1.0639e+05</td>\n",
              "</tr>\n",
              "<tr>\n",
              "  <th>Covariance Type:</th>     <td>nonrobust</td>    <th>  LLR p-value:       </th>   <td>0.1760</td>   \n",
              "</tr>\n",
              "</table>\n",
              "<table class=\"simpletable\">\n",
              "<tr>\n",
              "      <td></td>         <th>coef</th>     <th>std err</th>      <th>z</th>      <th>P>|z|</th>  <th>[0.025</th>    <th>0.975]</th>  \n",
              "</tr>\n",
              "<tr>\n",
              "  <th>intercept</th> <td>   -1.9893</td> <td>    0.009</td> <td> -223.763</td> <td> 0.000</td> <td>   -2.007</td> <td>   -1.972</td>\n",
              "</tr>\n",
              "<tr>\n",
              "  <th>ab_page</th>   <td>   -0.0149</td> <td>    0.011</td> <td>   -1.307</td> <td> 0.191</td> <td>   -0.037</td> <td>    0.007</td>\n",
              "</tr>\n",
              "<tr>\n",
              "  <th>CA</th>        <td>   -0.0408</td> <td>    0.027</td> <td>   -1.516</td> <td> 0.130</td> <td>   -0.093</td> <td>    0.012</td>\n",
              "</tr>\n",
              "<tr>\n",
              "  <th>UK</th>        <td>    0.0099</td> <td>    0.013</td> <td>    0.743</td> <td> 0.457</td> <td>   -0.016</td> <td>    0.036</td>\n",
              "</tr>\n",
              "</table>"
            ],
            "text/plain": [
              "<class 'statsmodels.iolib.summary.Summary'>\n",
              "\"\"\"\n",
              "                           Logit Regression Results                           \n",
              "==============================================================================\n",
              "Dep. Variable:              converted   No. Observations:               290584\n",
              "Model:                          Logit   Df Residuals:                   290580\n",
              "Method:                           MLE   Df Model:                            3\n",
              "Date:                Mon, 24 May 2021   Pseudo R-squ.:               2.323e-05\n",
              "Time:                        22:28:46   Log-Likelihood:            -1.0639e+05\n",
              "converged:                       True   LL-Null:                   -1.0639e+05\n",
              "Covariance Type:            nonrobust   LLR p-value:                    0.1760\n",
              "==============================================================================\n",
              "                 coef    std err          z      P>|z|      [0.025      0.975]\n",
              "------------------------------------------------------------------------------\n",
              "intercept     -1.9893      0.009   -223.763      0.000      -2.007      -1.972\n",
              "ab_page       -0.0149      0.011     -1.307      0.191      -0.037       0.007\n",
              "CA            -0.0408      0.027     -1.516      0.130      -0.093       0.012\n",
              "UK             0.0099      0.013      0.743      0.457      -0.016       0.036\n",
              "==============================================================================\n",
              "\"\"\""
            ]
          },
          "metadata": {
            "tags": []
          },
          "execution_count": 33
        }
      ]
    },
    {
      "cell_type": "markdown",
      "metadata": {
        "id": "3GN-b_Elf-1O"
      },
      "source": [
        "h. Though you have now looked at the individual factors of country and page on conversion, we would now like to look at an interaction between page and country to see if there significant effects on conversion.  Create the necessary additional columns, and fit the new model.  \n",
        "\n",
        "Provide the summary results, and your conclusions based on the results."
      ]
    },
    {
      "cell_type": "code",
      "metadata": {
        "colab": {
          "base_uri": "https://localhost:8080/",
          "height": 323
        },
        "id": "G55T4tIkbCSe",
        "outputId": "e25db8bf-432d-4153-8194-0d8829b8ce84"
      },
      "source": [
        "countries_new['CA_page'] = countries_new['CA']*countries_new['ab_page']\n",
        "countries_new['UK_page'] = countries_new['UK']*countries_new['ab_page']\n",
        "countries_new['US_page'] = countries_new['US']*countries_new['ab_page']\n",
        "logit_mod = sm.Logit(countries_new['converted'], countries_new[['intercept', 'CA_page', 'UK_page']])\n",
        "results = logit_mod.fit()\n",
        "results.summary()"
      ],
      "execution_count": 34,
      "outputs": [
        {
          "output_type": "stream",
          "text": [
            "Optimization terminated successfully.\n",
            "         Current function value: 0.366113\n",
            "         Iterations 6\n"
          ],
          "name": "stdout"
        },
        {
          "output_type": "execute_result",
          "data": {
            "text/html": [
              "<table class=\"simpletable\">\n",
              "<caption>Logit Regression Results</caption>\n",
              "<tr>\n",
              "  <th>Dep. Variable:</th>       <td>converted</td>    <th>  No. Observations:  </th>   <td>290584</td>   \n",
              "</tr>\n",
              "<tr>\n",
              "  <th>Model:</th>                 <td>Logit</td>      <th>  Df Residuals:      </th>   <td>290581</td>   \n",
              "</tr>\n",
              "<tr>\n",
              "  <th>Method:</th>                 <td>MLE</td>       <th>  Df Model:          </th>   <td>     2</td>   \n",
              "</tr>\n",
              "<tr>\n",
              "  <th>Date:</th>            <td>Mon, 24 May 2021</td> <th>  Pseudo R-squ.:     </th>  <td>2.364e-05</td> \n",
              "</tr>\n",
              "<tr>\n",
              "  <th>Time:</th>                <td>22:28:54</td>     <th>  Log-Likelihood:    </th> <td>-1.0639e+05</td>\n",
              "</tr>\n",
              "<tr>\n",
              "  <th>converged:</th>             <td>True</td>       <th>  LL-Null:           </th> <td>-1.0639e+05</td>\n",
              "</tr>\n",
              "<tr>\n",
              "  <th>Covariance Type:</th>     <td>nonrobust</td>    <th>  LLR p-value:       </th>   <td>0.08085</td>  \n",
              "</tr>\n",
              "</table>\n",
              "<table class=\"simpletable\">\n",
              "<tr>\n",
              "      <td></td>         <th>coef</th>     <th>std err</th>      <th>z</th>      <th>P>|z|</th>  <th>[0.025</th>    <th>0.975]</th>  \n",
              "</tr>\n",
              "<tr>\n",
              "  <th>intercept</th> <td>   -1.9963</td> <td>    0.006</td> <td> -322.049</td> <td> 0.000</td> <td>   -2.008</td> <td>   -1.984</td>\n",
              "</tr>\n",
              "<tr>\n",
              "  <th>CA_page</th>   <td>   -0.0752</td> <td>    0.038</td> <td>   -1.997</td> <td> 0.046</td> <td>   -0.149</td> <td>   -0.001</td>\n",
              "</tr>\n",
              "<tr>\n",
              "  <th>UK_page</th>   <td>    0.0149</td> <td>    0.017</td> <td>    0.862</td> <td> 0.389</td> <td>   -0.019</td> <td>    0.049</td>\n",
              "</tr>\n",
              "</table>"
            ],
            "text/plain": [
              "<class 'statsmodels.iolib.summary.Summary'>\n",
              "\"\"\"\n",
              "                           Logit Regression Results                           \n",
              "==============================================================================\n",
              "Dep. Variable:              converted   No. Observations:               290584\n",
              "Model:                          Logit   Df Residuals:                   290581\n",
              "Method:                           MLE   Df Model:                            2\n",
              "Date:                Mon, 24 May 2021   Pseudo R-squ.:               2.364e-05\n",
              "Time:                        22:28:54   Log-Likelihood:            -1.0639e+05\n",
              "converged:                       True   LL-Null:                   -1.0639e+05\n",
              "Covariance Type:            nonrobust   LLR p-value:                   0.08085\n",
              "==============================================================================\n",
              "                 coef    std err          z      P>|z|      [0.025      0.975]\n",
              "------------------------------------------------------------------------------\n",
              "intercept     -1.9963      0.006   -322.049      0.000      -2.008      -1.984\n",
              "CA_page       -0.0752      0.038     -1.997      0.046      -0.149      -0.001\n",
              "UK_page        0.0149      0.017      0.862      0.389      -0.019       0.049\n",
              "==============================================================================\n",
              "\"\"\""
            ]
          },
          "metadata": {
            "tags": []
          },
          "execution_count": 34
        }
      ]
    },
    {
      "cell_type": "markdown",
      "metadata": {
        "id": "qaDi9k5fbPLF"
      },
      "source": [
        "Based on the above, one p-value does present as statistically significant: the interaction of CA and ab_page (p = 0.046; p < 0.05).\n",
        "\n"
      ]
    },
    {
      "cell_type": "markdown",
      "metadata": {
        "id": "KjFbcus6lsw1"
      },
      "source": [
        "Based on the p-values above, it also does not appear as though country has a significant impact on conversion.\n",
        "\n"
      ]
    },
    {
      "cell_type": "markdown",
      "metadata": {
        "id": "ILDdETz0mj3l"
      },
      "source": [
        "we do not have enough evidence to reject the null hypothesis based on any of our A/B testing. As a result, there is no reason to switch to the new page, when the old one performs just as well.\n"
      ]
    }
  ]
}